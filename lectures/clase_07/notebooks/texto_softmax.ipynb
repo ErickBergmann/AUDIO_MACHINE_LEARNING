{
 "cells": [
  {
   "cell_type": "code",
   "execution_count": 1,
   "metadata": {},
   "outputs": [],
   "source": [
    "from tensorflow.keras.datasets import reuters"
   ]
  },
  {
   "cell_type": "markdown",
   "metadata": {},
   "source": [
    "Cargamos un conjunto de datos de Noticias y sus tópicos asociados (data set de texto). Existen 46 diferentes tipos de tópicos. \n",
    "El parámetro ```num_words``` restringe la data a las 15000 palabras más frecuentes (desconozco el máximo para este dataset). Observemos los datos: "
   ]
  },
  {
   "cell_type": "code",
   "execution_count": 2,
   "metadata": {},
   "outputs": [],
   "source": [
    "num_words = 10000"
   ]
  },
  {
   "cell_type": "code",
   "execution_count": 3,
   "metadata": {},
   "outputs": [],
   "source": [
    "(train_data,train_labels),(test_data,test_labels) = reuters.load_data(num_words = num_words)"
   ]
  },
  {
   "cell_type": "code",
   "execution_count": 4,
   "metadata": {},
   "outputs": [
    {
     "name": "stdout",
     "output_type": "stream",
     "text": [
      "Cantidad de ejemplos de entrenamiento: 8982\n"
     ]
    }
   ],
   "source": [
    "print(\"Cantidad de ejemplos de entrenamiento:\", len(train_data))"
   ]
  },
  {
   "cell_type": "code",
   "execution_count": 5,
   "metadata": {},
   "outputs": [
    {
     "name": "stdout",
     "output_type": "stream",
     "text": [
      "Cantidad de ejemplos de test: 2246\n"
     ]
    }
   ],
   "source": [
    "print(\"Cantidad de ejemplos de test:\", len(test_data))"
   ]
  },
  {
   "cell_type": "markdown",
   "metadata": {},
   "source": [
    "Cada ejemplo es una lista de números enteros, que representan una palabra de un índice de palabras. "
   ]
  },
  {
   "cell_type": "code",
   "execution_count": 6,
   "metadata": {},
   "outputs": [
    {
     "data": {
      "text/plain": [
       "[1,\n",
       " 2,\n",
       " 2,\n",
       " 8,\n",
       " 43,\n",
       " 10,\n",
       " 447,\n",
       " 5,\n",
       " 25,\n",
       " 207,\n",
       " 270,\n",
       " 5,\n",
       " 3095,\n",
       " 111,\n",
       " 16,\n",
       " 369,\n",
       " 186,\n",
       " 90,\n",
       " 67,\n",
       " 7,\n",
       " 89,\n",
       " 5,\n",
       " 19,\n",
       " 102,\n",
       " 6,\n",
       " 19,\n",
       " 124,\n",
       " 15,\n",
       " 90,\n",
       " 67,\n",
       " 84,\n",
       " 22,\n",
       " 482,\n",
       " 26,\n",
       " 7,\n",
       " 48,\n",
       " 4,\n",
       " 49,\n",
       " 8,\n",
       " 864,\n",
       " 39,\n",
       " 209,\n",
       " 154,\n",
       " 6,\n",
       " 151,\n",
       " 6,\n",
       " 83,\n",
       " 11,\n",
       " 15,\n",
       " 22,\n",
       " 155,\n",
       " 11,\n",
       " 15,\n",
       " 7,\n",
       " 48,\n",
       " 9,\n",
       " 4579,\n",
       " 1005,\n",
       " 504,\n",
       " 6,\n",
       " 258,\n",
       " 6,\n",
       " 272,\n",
       " 11,\n",
       " 15,\n",
       " 22,\n",
       " 134,\n",
       " 44,\n",
       " 11,\n",
       " 15,\n",
       " 16,\n",
       " 8,\n",
       " 197,\n",
       " 1245,\n",
       " 90,\n",
       " 67,\n",
       " 52,\n",
       " 29,\n",
       " 209,\n",
       " 30,\n",
       " 32,\n",
       " 132,\n",
       " 6,\n",
       " 109,\n",
       " 15,\n",
       " 17,\n",
       " 12]"
      ]
     },
     "execution_count": 6,
     "metadata": {},
     "output_type": "execute_result"
    }
   ],
   "source": [
    "train_data[0]"
   ]
  },
  {
   "cell_type": "markdown",
   "metadata": {},
   "source": [
    "Existe una forma de conocer la palabra asociada (Decodificador)"
   ]
  },
  {
   "cell_type": "code",
   "execution_count": 7,
   "metadata": {},
   "outputs": [],
   "source": [
    "def decoder(reuters, sample_number = 0):\n",
    "    word_index = reuters.get_word_index()\n",
    "    reverse_word_index = dict([(value,key) for (key,value) in word_index.items()])\n",
    "    # las posiciones 0,1 y 2 estan reservadas para padding, start of sequence y unknown por eso i-3\n",
    "    decoded_newswire = \" \".join([reverse_word_index.get(i-3,\"?\") for i in train_data[sample_number]])\n",
    "    print(\"Decoded message: \", decoded_newswire)"
   ]
  },
  {
   "cell_type": "code",
   "execution_count": 8,
   "metadata": {},
   "outputs": [
    {
     "name": "stdout",
     "output_type": "stream",
     "text": [
      "Decoded message:  ? leading u s farm state senators are seeking to ? into the ? ? trade bill a provision that would broaden eligibility requirements under the u s agriculture department's export enhancement program eep to include traditional buyers of u s farm products including the soviet union senate staff said under existing criteria usda can offer eep subsidies to ? export markets lost to competing nations' unfair trading practices senate agriculture committee chairman patrick leahy d vt is leading a group of farm state senators in an effort to broaden the criteria in such a way as to enable moscow to be eligible for the subsidies sources said the senators including senate finance committee chairman lloyd bentsen d tex max ? d ? david ? d ? john ? d ? and ? ? r miss also may ? into the trade bill a measure to shield pork producers and processors from canadian imports the measure sponsored by sen charles ? r iowa would clarify the definition of industry in determining whether or not imports were causing injury to u s producers ? bill stems from a 1985 decision by the international trade commission that imports from canada of live ? but not fresh chilled and frozen pork were ? u s producers the bill's proponents have argued canada has simply replaced shipments of live hogs with fresh pork reuter 3\n"
     ]
    }
   ],
   "source": [
    "decoder(reuters, sample_number = 20)"
   ]
  },
  {
   "cell_type": "code",
   "execution_count": 9,
   "metadata": {},
   "outputs": [
    {
     "data": {
      "text/plain": [
       "4"
      ]
     },
     "execution_count": 9,
     "metadata": {},
     "output_type": "execute_result"
    }
   ],
   "source": [
    "train_labels[1]"
   ]
  },
  {
   "cell_type": "markdown",
   "metadata": {},
   "source": [
    "Preparando la data\n",
    "\n",
    "\n",
    "Todas las listas de palabras serán de tamaño diferente. Es necesario convertir nuestras listas de números enteros en vectores de un mismo tamaño. \n",
    "Para eso creamos un arreglo de ceros del tamaño de la cantidad de ejemplos $\\times$ la cantidad de palabras que estamos manejando, en este caso 15000. \n",
    "En Inglés esto se denomina \"Encoding\". "
   ]
  },
  {
   "cell_type": "code",
   "execution_count": 10,
   "metadata": {},
   "outputs": [],
   "source": [
    "import numpy as np \n",
    "\n",
    "def vectorize_sequences(sequences, dimension = int(num_words)):\n",
    "    results = np.zeros((len(sequences),dimension))\n",
    "    for i, sequence in enumerate(sequences):\n",
    "        for j in sequence:\n",
    "            results[i,j] = 1. #coloco un 1 en el numero de componente que representara al numero de la palabra\n",
    "    return results"
   ]
  },
  {
   "cell_type": "code",
   "execution_count": 11,
   "metadata": {},
   "outputs": [],
   "source": [
    "x_train = vectorize_sequences(train_data)\n",
    "x_test = vectorize_sequences(test_data)"
   ]
  },
  {
   "cell_type": "markdown",
   "metadata": {},
   "source": [
    "Otro Encoding necesario es el que utilizaremos para las clases"
   ]
  },
  {
   "cell_type": "code",
   "execution_count": 12,
   "metadata": {},
   "outputs": [],
   "source": [
    "def to_one_hot(labels,dimension=46):\n",
    "    results = np.zeros((len(labels),dimension))\n",
    "    for i, label in enumerate(labels):\n",
    "        results[i,label]=1.\n",
    "    return results"
   ]
  },
  {
   "cell_type": "code",
   "execution_count": 13,
   "metadata": {},
   "outputs": [],
   "source": [
    "y_train = to_one_hot(train_labels)"
   ]
  },
  {
   "cell_type": "code",
   "execution_count": 14,
   "metadata": {},
   "outputs": [],
   "source": [
    "y_test = to_one_hot(test_labels)"
   ]
  },
  {
   "cell_type": "markdown",
   "metadata": {},
   "source": [
    "### Construimos el modelo"
   ]
  },
  {
   "cell_type": "code",
   "execution_count": 15,
   "metadata": {},
   "outputs": [],
   "source": [
    "import keras"
   ]
  },
  {
   "cell_type": "code",
   "execution_count": 16,
   "metadata": {},
   "outputs": [],
   "source": [
    "model = keras.Sequential([\n",
    "    keras.layers.Dense(64,activation=\"relu\"),\n",
    "    keras.layers.Dense(64,activation=\"relu\"),\n",
    "    keras.layers.Dense(46,activation=\"softmax\"),    #debe coincidir con el número de clases\n",
    "])"
   ]
  },
  {
   "cell_type": "markdown",
   "metadata": {},
   "source": [
    "Categorical Cross Entropy Loss\n",
    "\n",
    "$\n",
    "E = -\\displaystyle \\sum_{i} t_i \\text{log}\\left(\\dfrac{e^{S_{p}}}{\\displaystyle \\sum_{j} e^{S_{j}}}\\right)\n",
    "$"
   ]
  },
  {
   "cell_type": "code",
   "execution_count": 17,
   "metadata": {},
   "outputs": [],
   "source": [
    "model.compile(optimizer=\"rmsprop\",\n",
    "              loss=\"categorical_crossentropy\", # sustituir softmax dentro de la definicion de entropía\n",
    "              metrics=[\"accuracy\"])"
   ]
  },
  {
   "cell_type": "markdown",
   "metadata": {},
   "source": [
    "Validacion"
   ]
  },
  {
   "cell_type": "code",
   "execution_count": 18,
   "metadata": {},
   "outputs": [],
   "source": [
    "x_val = x_train[:1000]\n",
    "partial_x_train = x_train[1000:]\n",
    "y_val = y_train[:1000]\n",
    "partial_y_train = y_train[1000:]"
   ]
  },
  {
   "cell_type": "markdown",
   "metadata": {},
   "source": [
    "Entrenamos"
   ]
  },
  {
   "cell_type": "code",
   "execution_count": 19,
   "metadata": {},
   "outputs": [
    {
     "name": "stdout",
     "output_type": "stream",
     "text": [
      "Epoch 1/20\n",
      "16/16 [==============================] - 0s 13ms/step - loss: 2.6723 - accuracy: 0.4697 - val_loss: 1.7918 - val_accuracy: 0.6420\n",
      "Epoch 2/20\n",
      "16/16 [==============================] - 0s 8ms/step - loss: 1.4495 - accuracy: 0.7051 - val_loss: 1.3201 - val_accuracy: 0.7210\n",
      "Epoch 3/20\n",
      "16/16 [==============================] - 0s 8ms/step - loss: 1.0627 - accuracy: 0.7793 - val_loss: 1.1489 - val_accuracy: 0.7420\n",
      "Epoch 4/20\n",
      "16/16 [==============================] - 0s 8ms/step - loss: 0.8282 - accuracy: 0.8227 - val_loss: 1.0303 - val_accuracy: 0.7840\n",
      "Epoch 5/20\n",
      "16/16 [==============================] - 0s 8ms/step - loss: 0.6590 - accuracy: 0.8589 - val_loss: 0.9521 - val_accuracy: 0.8050\n",
      "Epoch 6/20\n",
      "16/16 [==============================] - 0s 8ms/step - loss: 0.5259 - accuracy: 0.8903 - val_loss: 0.9137 - val_accuracy: 0.8150\n",
      "Epoch 7/20\n",
      "16/16 [==============================] - 0s 8ms/step - loss: 0.4202 - accuracy: 0.9100 - val_loss: 0.9052 - val_accuracy: 0.8080\n",
      "Epoch 8/20\n",
      "16/16 [==============================] - 0s 8ms/step - loss: 0.3427 - accuracy: 0.9265 - val_loss: 0.8924 - val_accuracy: 0.8120\n",
      "Epoch 9/20\n",
      "16/16 [==============================] - 0s 8ms/step - loss: 0.2836 - accuracy: 0.9395 - val_loss: 0.9010 - val_accuracy: 0.8190\n",
      "Epoch 10/20\n",
      "16/16 [==============================] - 0s 8ms/step - loss: 0.2397 - accuracy: 0.9449 - val_loss: 0.9104 - val_accuracy: 0.8190\n",
      "Epoch 11/20\n",
      "16/16 [==============================] - 0s 8ms/step - loss: 0.2086 - accuracy: 0.9486 - val_loss: 0.9396 - val_accuracy: 0.8090\n",
      "Epoch 12/20\n",
      "16/16 [==============================] - 0s 8ms/step - loss: 0.1845 - accuracy: 0.9519 - val_loss: 0.9603 - val_accuracy: 0.8080\n",
      "Epoch 13/20\n",
      "16/16 [==============================] - 0s 8ms/step - loss: 0.1634 - accuracy: 0.9546 - val_loss: 0.9420 - val_accuracy: 0.8190\n",
      "Epoch 14/20\n",
      "16/16 [==============================] - 0s 8ms/step - loss: 0.1521 - accuracy: 0.9554 - val_loss: 0.9835 - val_accuracy: 0.8080\n",
      "Epoch 15/20\n",
      "16/16 [==============================] - 0s 8ms/step - loss: 0.1412 - accuracy: 0.9562 - val_loss: 0.9628 - val_accuracy: 0.8170\n",
      "Epoch 16/20\n",
      "16/16 [==============================] - 0s 8ms/step - loss: 0.1337 - accuracy: 0.9567 - val_loss: 1.0052 - val_accuracy: 0.8190\n",
      "Epoch 17/20\n",
      "16/16 [==============================] - 0s 8ms/step - loss: 0.1258 - accuracy: 0.9588 - val_loss: 1.0516 - val_accuracy: 0.8030\n",
      "Epoch 18/20\n",
      "16/16 [==============================] - 0s 8ms/step - loss: 0.1210 - accuracy: 0.9567 - val_loss: 1.0283 - val_accuracy: 0.8110\n",
      "Epoch 19/20\n",
      "16/16 [==============================] - 0s 8ms/step - loss: 0.1183 - accuracy: 0.9579 - val_loss: 1.0960 - val_accuracy: 0.8070\n",
      "Epoch 20/20\n",
      "16/16 [==============================] - 0s 8ms/step - loss: 0.1150 - accuracy: 0.9588 - val_loss: 1.0631 - val_accuracy: 0.8140\n"
     ]
    }
   ],
   "source": [
    "history = model.fit(partial_x_train,\n",
    "                    partial_y_train,\n",
    "                    epochs = 20,\n",
    "                    batch_size = 512,\n",
    "                    validation_data = (x_val,y_val))"
   ]
  },
  {
   "cell_type": "code",
   "execution_count": 20,
   "metadata": {},
   "outputs": [],
   "source": [
    "loss = history.history[\"loss\"]\n",
    "val_loss = history.history[\"val_loss\"]"
   ]
  },
  {
   "cell_type": "code",
   "execution_count": 21,
   "metadata": {},
   "outputs": [],
   "source": [
    "epochs = range(1,len(loss)+1)"
   ]
  },
  {
   "cell_type": "code",
   "execution_count": 22,
   "metadata": {},
   "outputs": [],
   "source": [
    "import matplotlib.pyplot as plt"
   ]
  },
  {
   "cell_type": "code",
   "execution_count": 24,
   "metadata": {},
   "outputs": [
    {
     "data": {
      "image/png": "[encoded data removed]",
      "text/plain": [
       "<Figure size 640x480 with 1 Axes>"
      ]
     },
     "metadata": {},
     "output_type": "display_data"
    }
   ],
   "source": [
    "plt.plot(epochs,loss,\"bo\",label=\"Training Loss\")\n",
    "plt.plot(epochs,val_loss,\"r\",label=\"Validation Loss\")\n",
    "plt.title(\"Training and Validation Loss\")\n",
    "plt.xlabel(\"Epochs\")\n",
    "plt.ylabel(\"Loss\")\n",
    "plt.legend()\n",
    "plt.show()"
   ]
  },
  {
   "cell_type": "code",
   "execution_count": null,
   "metadata": {},
   "outputs": [],
   "source": []
  },
  {
   "cell_type": "code",
   "execution_count": null,
   "metadata": {},
   "outputs": [],
   "source": []
  }
 ],
 "metadata": {
  "kernelspec": {
   "display_name": "Python 3",
   "language": "python",
   "name": "python3"
  },
  "language_info": {
   "codemirror_mode": {
    "name": "ipython",
    "version": 3
   },
   "file_extension": ".py",
   "mimetype": "text/x-python",
   "name": "python",
   "nbconvert_exporter": "python",
   "pygments_lexer": "ipython3",
   "version": "3.11.6"
  }
 },
 "nbformat": 4,
 "nbformat_minor": 2
}
