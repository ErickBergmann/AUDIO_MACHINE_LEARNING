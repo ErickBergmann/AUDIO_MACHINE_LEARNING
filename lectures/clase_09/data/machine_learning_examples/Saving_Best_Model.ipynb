{
 "cells": [
  {
   "cell_type": "code",
   "execution_count": 1,
   "id": "f039bd44-e48c-4eaa-949d-c3c3d7318f5a",
   "metadata": {},
   "outputs": [],
   "source": [
    "from sklearn.model_selection import train_test_split\n",
    "from sklearn.ensemble import RandomForestClassifier\n",
    "import numpy as np\n",
    "import matplotlib.pyplot as plt"
   ]
  },
  {
   "cell_type": "markdown",
   "id": "a408b1e7-b007-4f56-b8dc-50b9da12ffbd",
   "metadata": {},
   "source": [
    "### Best Model : all features!"
   ]
  },
  {
   "cell_type": "markdown",
   "id": "b754acd0-6f04-42b7-8703-4fd875b99128",
   "metadata": {},
   "source": [
    "RandomForestClassifier(bootstrap=False, max_depth=40, n_estimators=1400)"
   ]
  },
  {
   "cell_type": "markdown",
   "id": "92bd5bb4-6b3f-4677-8b9f-bb695f9d108c",
   "metadata": {},
   "source": [
    "Loading data"
   ]
  },
  {
   "cell_type": "code",
   "execution_count": 2,
   "id": "8655ee90-c27e-4c2f-92c5-bc64264a57ae",
   "metadata": {},
   "outputs": [],
   "source": [
    "filename = '../processed_data/ALL40_48.npy'\n",
    "with open(filename, 'rb') as f:\n",
    "    ALL40_48 = np.load(f)"
   ]
  },
  {
   "cell_type": "code",
   "execution_count": 3,
   "id": "fb33427e-d7e0-4aa3-8270-dcfcc8844a21",
   "metadata": {},
   "outputs": [],
   "source": [
    "filename = '../processed_data/ZE_48.npy'\n",
    "# open file in write mode and write data\n",
    "with open(filename, 'rb') as f:\n",
    "    Z = np.load(f)\n",
    "    E = np.load(f)\n",
    "    Y = np.load(f)"
   ]
  },
  {
   "cell_type": "markdown",
   "id": "c07f7746-44f0-4c0a-a368-22fd2cd7bf0a",
   "metadata": {},
   "source": [
    "Splitting"
   ]
  },
  {
   "cell_type": "code",
   "execution_count": 4,
   "id": "9ef42cd7-40c5-464a-b57d-7f11e8ec59b5",
   "metadata": {},
   "outputs": [],
   "source": [
    "X_train_b, X_test_b, y_train_b, y_test_b = train_test_split(ALL40_48, Y, test_size=0.20, random_state=42)"
   ]
  },
  {
   "cell_type": "code",
   "execution_count": 5,
   "id": "7f95594e-81b0-4254-8aa9-89ed7578970a",
   "metadata": {},
   "outputs": [],
   "source": [
    "model = RandomForestClassifier(bootstrap=False, max_depth=40, n_estimators=1400)"
   ]
  },
  {
   "cell_type": "markdown",
   "id": "f4651086-7f2d-44bb-af7d-0a4ee53cab93",
   "metadata": {},
   "source": [
    "Training"
   ]
  },
  {
   "cell_type": "code",
   "execution_count": 6,
   "id": "327f7430-28c3-4689-9150-92fbaeeeba02",
   "metadata": {},
   "outputs": [
    {
     "data": {
      "text/plain": [
       "RandomForestClassifier(bootstrap=False, max_depth=40, n_estimators=1400)"
      ]
     },
     "execution_count": 6,
     "metadata": {},
     "output_type": "execute_result"
    }
   ],
   "source": [
    "model.fit(X_train_b,y_train_b)"
   ]
  },
  {
   "cell_type": "markdown",
   "id": "164314b9-52c6-490a-b308-5938339a115b",
   "metadata": {},
   "source": [
    "Checking Evaluation"
   ]
  },
  {
   "cell_type": "code",
   "execution_count": 7,
   "id": "aee16fb6-4c8d-414f-9544-0294f0baee8d",
   "metadata": {},
   "outputs": [],
   "source": [
    "from sklearn.metrics import accuracy_score"
   ]
  },
  {
   "cell_type": "code",
   "execution_count": 8,
   "id": "45e99502-1d31-4b2a-a829-00b793e2c68d",
   "metadata": {},
   "outputs": [
    {
     "name": "stdout",
     "output_type": "stream",
     "text": [
      "0.9930555555555556\n"
     ]
    }
   ],
   "source": [
    "predictions = model.predict(X_test_b)\n",
    "print(accuracy_score(y_test_b, predictions))"
   ]
  },
  {
   "cell_type": "markdown",
   "id": "3ca63b1a-857a-4965-b1e6-ed979115c2a0",
   "metadata": {},
   "source": [
    "Saving the model"
   ]
  },
  {
   "cell_type": "code",
   "execution_count": 9,
   "id": "6672acb8-8b59-4d80-afca-5dd9156ca8eb",
   "metadata": {},
   "outputs": [
    {
     "data": {
      "text/plain": [
       "['./random_forest.joblib']"
      ]
     },
     "execution_count": 9,
     "metadata": {},
     "output_type": "execute_result"
    }
   ],
   "source": [
    "import joblib\n",
    "## save\n",
    "joblib.dump(model, \"./random_forest.joblib\")\n",
    "\n",
    "## load, no need to initialize the loaded_rf\n",
    "#loaded_rf = joblib.load(\"./random_forest.joblib\")"
   ]
  },
  {
   "cell_type": "markdown",
   "id": "a3e03c91-5309-4df4-90e7-511d812573a8",
   "metadata": {},
   "source": [
    "## Confusion Matrix"
   ]
  },
  {
   "cell_type": "code",
   "execution_count": 11,
   "id": "1adc32c9-d306-4fe2-aa3c-2848f8656aa4",
   "metadata": {},
   "outputs": [],
   "source": [
    "loaded_rf = joblib.load(\"./random_forest.joblib\")"
   ]
  },
  {
   "cell_type": "code",
   "execution_count": 12,
   "id": "80a1ab2b-a31f-436c-81ba-c5c851e97368",
   "metadata": {},
   "outputs": [],
   "source": [
    "predictions = loaded_rf.predict(X_test_b)"
   ]
  },
  {
   "cell_type": "code",
   "execution_count": 16,
   "id": "43b837e6-5013-46fe-b0dd-d67edb63ba9d",
   "metadata": {},
   "outputs": [],
   "source": [
    "from sklearn.metrics import confusion_matrix\n",
    "from sklearn.metrics import plot_confusion_matrix"
   ]
  },
  {
   "cell_type": "code",
   "execution_count": 14,
   "id": "8a11772f-06d6-4c00-9aea-32327271ae76",
   "metadata": {},
   "outputs": [
    {
     "data": {
      "text/plain": [
       "array([[ 66,   0,   0,   0,   0,   0,   0,   0],\n",
       "       [  0, 153,   0,   0,   0,   0,   0,   0],\n",
       "       [  0,   0, 153,   0,   0,   0,   0,   0],\n",
       "       [  0,   1,   1, 176,   0,   0,   0,   0],\n",
       "       [  0,   0,   0,   0, 147,   0,   0,   5],\n",
       "       [  0,   0,   0,   0,   0, 147,   0,   0],\n",
       "       [  0,   0,   0,   0,   0,   0, 154,   0],\n",
       "       [  0,   0,   0,   0,   0,   1,   0, 148]])"
      ]
     },
     "execution_count": 14,
     "metadata": {},
     "output_type": "execute_result"
    }
   ],
   "source": [
    "confusion_matrix(y_test_b,predictions)"
   ]
  },
  {
   "cell_type": "code",
   "execution_count": 17,
   "id": "a5add07e-0ffc-47b1-b751-2022aebb6b4e",
   "metadata": {},
   "outputs": [
    {
     "data": {
      "image/png": "[encoded data removed]",
      "text/plain": [
       "<Figure size 432x288 with 2 Axes>"
      ]
     },
     "metadata": {
      "needs_background": "light"
     },
     "output_type": "display_data"
    }
   ],
   "source": [
    "plot_confusion_matrix(loaded_rf, X_test_b, y_test_b)\n",
    "plt.show() "
   ]
  },
  {
   "cell_type": "code",
   "execution_count": null,
   "id": "653f3f41-0460-4221-9283-7c9ba0774d36",
   "metadata": {},
   "outputs": [],
   "source": []
  }
 ],
 "metadata": {
  "kernelspec": {
   "display_name": "Python 3",
   "language": "python",
   "name": "python3"
  },
  "language_info": {
   "codemirror_mode": {
    "name": "ipython",
    "version": 3
   },
   "file_extension": ".py",
   "mimetype": "text/x-python",
   "name": "python",
   "nbconvert_exporter": "python",
   "pygments_lexer": "ipython3",
   "version": "3.8.10"
  }
 },
 "nbformat": 4,
 "nbformat_minor": 5
}
