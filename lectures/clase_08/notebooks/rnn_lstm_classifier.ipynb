{
 "cells": [
  {
   "cell_type": "markdown",
   "metadata": {},
   "source": [
    "Tutorial Based On: Valerio Velardo \"How to Implement an RNN-LSTM Network for Music Genre Classification\"\n",
    "\n",
    "Tutorial [LINK](https://www.youtube.com/watch?v=szyGiObZymo)\n",
    "\n",
    "Dataset [LINK](https://www.kaggle.com/datasets/andradaolteanu/gtzan-dataset-music-genre-classification/)\n",
    "\n",
    "Diagram Reference [LINK](https://colah.github.io/posts/2015-08-Understanding-LSTMs/)\n",
    "\n",
    "Information Flow [LINK](https://www.youtube.com/watch?v=-qpXVJnRC1w)\n",
    "\n",
    "Illustrative Guide [LINK](https://www.youtube.com/watch?v=8HyCNIVRbSU)"
   ]
  }
 ],
 "metadata": {
  "language_info": {
   "name": "python"
  }
 },
 "nbformat": 4,
 "nbformat_minor": 2
}
