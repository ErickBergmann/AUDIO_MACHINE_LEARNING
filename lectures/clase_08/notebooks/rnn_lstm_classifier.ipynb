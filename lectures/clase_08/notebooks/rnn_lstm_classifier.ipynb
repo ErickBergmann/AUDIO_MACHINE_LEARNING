{
 "cells": [
  {
   "cell_type": "markdown",
   "metadata": {},
   "source": [
    "Tutorial Based On: Valerio Velardo \"How to Implement an RNN-LSTM Network for Music Genre Classification\"\n",
    "\n",
    "Tutorial [LINK](https://www.youtube.com/watch?v=szyGiObZymo)\n",
    "\n",
    "Dataset [LINK](https://www.kaggle.com/datasets/andradaolteanu/gtzan-dataset-music-genre-classification/)"
   ]
  }
 ],
 "metadata": {
  "language_info": {
   "name": "python"
  }
 },
 "nbformat": 4,
 "nbformat_minor": 2
}
