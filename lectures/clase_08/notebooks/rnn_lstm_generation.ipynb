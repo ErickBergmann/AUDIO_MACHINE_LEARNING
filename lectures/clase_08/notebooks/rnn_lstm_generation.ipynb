{
 "cells": [
  {
   "cell_type": "markdown",
   "metadata": {},
   "source": [
    "Notebook based on Karnika Kapoor Work: [LINK](https://www.kaggle.com/code/karnikakapoor/music-generation-lstm)"
   ]
  },
  {
   "cell_type": "code",
   "execution_count": 34,
   "metadata": {},
   "outputs": [],
   "source": [
    "#Importing Libraries\n",
    "import tensorflow \n",
    "import numpy as np \n",
    "import pandas as pd \n",
    "from collections import Counter\n",
    "import random\n",
    "import IPython\n",
    "from IPython.display import Image, Audio\n",
    "import matplotlib.pyplot as plt \n",
    "from sklearn.model_selection import train_test_split\n",
    "from tensorflow.keras.models import Sequential\n",
    "from tensorflow.keras.layers import LSTM, Dense, Dropout\n",
    "import tensorflow.keras.backend as K\n",
    "from tensorflow.keras.optimizers.legacy import Adamax\n",
    "import seaborn as sns\n",
    "import matplotlib.pyplot as plt\n",
    "import matplotlib.patches as mpatches\n",
    "%matplotlib inline\n",
    "import sys\n",
    "import os\n",
    "import warnings\n",
    "warnings.filterwarnings(\"ignore\")\n",
    "warnings.simplefilter(\"ignore\")\n",
    "np.random.seed(42)"
   ]
  },
  {
   "cell_type": "code",
   "execution_count": 2,
   "metadata": {},
   "outputs": [],
   "source": [
    "# Added to the enviroment\n",
    "#!pip install music21\n",
    "# Dependencies\n",
    "#brew install lilypond"
   ]
  },
  {
   "cell_type": "markdown",
   "metadata": {},
   "source": [
    "# Exploración de los Datos"
   ]
  },
  {
   "cell_type": "code",
   "execution_count": 3,
   "metadata": {},
   "outputs": [],
   "source": [
    "import music21\n",
    "from music21 import *"
   ]
  },
  {
   "cell_type": "markdown",
   "metadata": {},
   "source": [
    "En colaboratory ```-> runtime ->change runtime ``` y seleccionas la GPU."
   ]
  },
  {
   "cell_type": "code",
   "execution_count": null,
   "metadata": {},
   "outputs": [],
   "source": [
    "# from google.colab import drive\n",
    "# drive.mount('/content/drive')\n",
    "#filepath = \"./data/{path}"
   ]
  },
  {
   "cell_type": "markdown",
   "metadata": {},
   "source": [
    "### Cargando la data MIDI. \n",
    "\n",
    "La fuente son pianos de música clásica del conocido autor Frédéric Chopin. \n",
    "\n",
    "- Los archivos MIDIS son leídos a través de la libreria ```music21```\n",
    "\n",
    "- Luego, se extraen notas y acordes desde esta información para crear un corpus para entrenar el modelo. \n"
   ]
  },
  {
   "cell_type": "code",
   "execution_count": 4,
   "metadata": {},
   "outputs": [],
   "source": [
    "#Loading the list of chopin's midi files as stream \n",
    "filepath = \"./data/chopin/\"\n",
    "#Getting midi files\n",
    "all_midis= []\n",
    "for i in os.listdir(filepath):\n",
    "    if i.endswith(\".mid\"):\n",
    "        tr = filepath+i\n",
    "        midi = converter.parse(tr)\n",
    "        all_midis.append(midi)"
   ]
  },
  {
   "cell_type": "markdown",
   "metadata": {},
   "source": [
    "Cada archivo es un objeto del tipo ```music21``` que se puede \"stremear\" es decir es una secuencia continua de archivos MIDI que se reproducen uno tras otro en un flujo continuo o en tiempo real."
   ]
  },
  {
   "cell_type": "code",
   "execution_count": 5,
   "metadata": {},
   "outputs": [
    {
     "data": {
      "text/plain": [
       "<music21.stream.Score 0x2caf44590>"
      ]
     },
     "execution_count": 5,
     "metadata": {},
     "output_type": "execute_result"
    }
   ],
   "source": [
    "all_midis[0]"
   ]
  },
  {
   "cell_type": "code",
   "execution_count": 6,
   "metadata": {},
   "outputs": [],
   "source": [
    "#Helping function: extrae notas y acordes (métodos heredados de music21)        \n",
    "def extract_notes(file):\n",
    "    notes = []\n",
    "    pick = None\n",
    "    for j in file:\n",
    "        songs = instrument.partitionByInstrument(j)\n",
    "        for part in songs.parts:\n",
    "            pick = part.recurse()\n",
    "            for element in pick:\n",
    "                if isinstance(element, note.Note):\n",
    "                    notes.append(str(element.pitch))\n",
    "                elif isinstance(element, chord.Chord):\n",
    "                    notes.append(\".\".join(str(n) for n in element.normalOrder))\n",
    "\n",
    "    return notes"
   ]
  },
  {
   "cell_type": "markdown",
   "metadata": {},
   "source": [
    "Extracción de Notas y Acordes"
   ]
  },
  {
   "cell_type": "code",
   "execution_count": 7,
   "metadata": {},
   "outputs": [
    {
     "name": "stdout",
     "output_type": "stream",
     "text": [
      "Total notes in all the Chopin midis in the dataset: 57894\n"
     ]
    }
   ],
   "source": [
    "#Getting the list of notes as Corpus\n",
    "Corpus= extract_notes(all_midis)\n",
    "print(\"Total notes in all the Chopin midis in the dataset:\", len(Corpus))"
   ]
  },
  {
   "cell_type": "markdown",
   "metadata": {},
   "source": [
    "Observemos algunas de las notas presentes en el Corpus"
   ]
  },
  {
   "cell_type": "code",
   "execution_count": 8,
   "metadata": {},
   "outputs": [
    {
     "name": "stdout",
     "output_type": "stream",
     "text": [
      "Primeros 40 valores presentes en el  Corpus: ['C3', 'C2', 'E-3', 'E-2', 'G#3', 'G#2', 'B-3', 'B-2', 'C4', 'C3', 'G#3', 'G#2', 'E-4', 'E-3', 'B-4', 'B-3', 'C5', 'C4', 'G#4', 'G#3', 'E-5', 'E-4', 'B-5', 'B-4', 'C6', 'C5', 'G5', 'G4', 'B-5', 'B-4', 'G#5', 'G#4', 'G5', 'G4', 'F#5', 'F#4', 'F#5', 'F#4', 'G5', 'G4']\n"
     ]
    }
   ],
   "source": [
    "N = 40\n",
    "print(f\"Primeros {N} valores presentes en el  Corpus:\", Corpus[:N])"
   ]
  },
  {
   "cell_type": "markdown",
   "metadata": {},
   "source": [
    "Observando la partitura"
   ]
  },
  {
   "cell_type": "code",
   "execution_count": 9,
   "metadata": {},
   "outputs": [],
   "source": [
    "#First Lets write some functions that we need to look into the data\n",
    "def show(music):\n",
    "    display(Image(str(music.write(\"lily.png\"))))\n",
    "    \n",
    "def chords_n_notes(Snippet):\n",
    "    Melody = []\n",
    "    offset = 0 #Incremental\n",
    "    for i in Snippet:\n",
    "        #If it is chord\n",
    "        if (\".\" in i or i.isdigit()):\n",
    "            chord_notes = i.split(\".\") #Seperating the notes in chord\n",
    "            notes = [] \n",
    "            for j in chord_notes:\n",
    "                inst_note=int(j)\n",
    "                note_snip = note.Note(inst_note)            \n",
    "                notes.append(note_snip)\n",
    "                chord_snip = chord.Chord(notes)\n",
    "                chord_snip.offset = offset\n",
    "                Melody.append(chord_snip)\n",
    "        # pattern is a note\n",
    "        else: \n",
    "            note_snip = note.Note(i)\n",
    "            note_snip.offset = offset\n",
    "            Melody.append(note_snip)\n",
    "        # increase offset each iteration so that notes do not stack\n",
    "        offset += 1\n",
    "    Melody_midi = stream.Stream(Melody)   \n",
    "    return Melody_midi"
   ]
  },
  {
   "cell_type": "code",
   "execution_count": 11,
   "metadata": {},
   "outputs": [],
   "source": [
    "### Pendiente: exportar correctamente el path\n",
    "#Melody_Snippet = chords_n_notes(Corpus[:100])\n",
    "#show(Melody_Snippet)"
   ]
  },
  {
   "cell_type": "markdown",
   "metadata": {},
   "source": [
    "Algunas estadísticas sobre total de notas, frecuencia de repetición de notas, la mayor frecuencia y la menor frecuencia"
   ]
  },
  {
   "cell_type": "code",
   "execution_count": null,
   "metadata": {},
   "outputs": [
    {
     "name": "stdout",
     "output_type": "stream",
     "text": [
      "Total unique notes in the Corpus: 397\n"
     ]
    }
   ],
   "source": [
    "#Creating a count dictionary\n",
    "count_num = Counter(Corpus)\n",
    "print(\"Total unique notes in the Corpus:\", len(count_num))"
   ]
  },
  {
   "cell_type": "code",
   "execution_count": null,
   "metadata": {},
   "outputs": [
    {
     "name": "stdout",
     "output_type": "stream",
     "text": [
      "Average recurrenc for a note in Corpus: 145.8287153652393\n",
      "Most frequent note in Corpus appeared: 1627 times\n",
      "Least frequent note in Corpus appeared: 1 time\n"
     ]
    }
   ],
   "source": [
    "#Exploring the notes dictionary\n",
    "Notes = list(count_num.keys())\n",
    "Recurrence = list(count_num.values())\n",
    "#Average recurrenc for a note in Corpus\n",
    "def Average(lst):\n",
    "    return sum(lst) / len(lst)\n",
    "print(\"Average recurrenc for a note in Corpus:\", Average(Recurrence))\n",
    "print(\"Most frequent note in Corpus appeared:\", max(Recurrence), \"times\")\n",
    "print(\"Least frequent note in Corpus appeared:\", min(Recurrence), \"time\")"
   ]
  },
  {
   "cell_type": "markdown",
   "metadata": {},
   "source": [
    "Lo anterior implica notas que son \"raras\" dentro de la base de datos. Esto puede \"sesgar\" el modelo a tocar ciertas notas con mayor frecuencia. Idealmente quisieramos una distribución uniforme a lo largo de las notas. En este ejemplo, se eliminarán las notas raras, en desmedro de la obra de Chopin pues se quitarán notas \"raras\" dentro del dataset solo a modo de ejemplo. "
   ]
  },
  {
   "cell_type": "code",
   "execution_count": null,
   "metadata": {},
   "outputs": [
    {
     "data": {
      "image/png": "[encoded data removed]",
      "text/plain": [
       "<Figure size 1800x300 with 1 Axes>"
      ]
     },
     "metadata": {
      "image/png": {
       "height": 315,
       "width": 1470
      }
     },
     "output_type": "display_data"
    }
   ],
   "source": [
    "# Plotting the distribution of Notes\n",
    "plt.figure(figsize=(18,3),facecolor=\"#97BACB\")\n",
    "bins = np.arange(0,(max(Recurrence)), 50) \n",
    "plt.hist(Recurrence, bins=bins, color=\"#97BACB\")\n",
    "plt.axvline(x=100,color=\"#DBACC1\")\n",
    "plt.title(\"Frequency Distribution Of Notes In The Corpus\")\n",
    "plt.xlabel(\"Frequency Of Chords in Corpus\")\n",
    "plt.ylabel(\"Number Of Chords\")\n",
    "plt.show()"
   ]
  },
  {
   "cell_type": "markdown",
   "metadata": {},
   "source": [
    "Eliminaremos las notas que han sido tocadas menos de 100 veces pero dejaré como hiperparámetro este valor para que puedan jugar y modificarlo. "
   ]
  },
  {
   "cell_type": "code",
   "execution_count": null,
   "metadata": {},
   "outputs": [
    {
     "name": "stdout",
     "output_type": "stream",
     "text": [
      "Total number of notes that occur less than 100 times: 270\n"
     ]
    }
   ],
   "source": [
    "Number_of_Notes = 100\n",
    "\n",
    "#Getting a list of rare chords\n",
    "rare_note = []\n",
    "for index, (key, value) in enumerate(count_num.items()):\n",
    "    if value < Number_of_Notes:\n",
    "        m =  key\n",
    "        rare_note.append(m)\n",
    "        \n",
    "print(\"Total number of notes that occur less than 100 times:\", len(rare_note))"
   ]
  },
  {
   "cell_type": "markdown",
   "metadata": {},
   "source": [
    "Eliminación de las notas \"raras\""
   ]
  },
  {
   "cell_type": "code",
   "execution_count": null,
   "metadata": {},
   "outputs": [
    {
     "name": "stdout",
     "output_type": "stream",
     "text": [
      "Length of Corpus after elemination the rare notes: 53752\n"
     ]
    }
   ],
   "source": [
    "#Eleminating the rare notes\n",
    "for element in Corpus:\n",
    "    if element in rare_note:\n",
    "        Corpus.remove(element)\n",
    "\n",
    "print(\"Length of Corpus after elemination the rare notes:\", len(Corpus))"
   ]
  },
  {
   "cell_type": "markdown",
   "metadata": {},
   "source": [
    "# Preprocesamiento\n",
    "\n",
    "1 - Mapea las notas a números"
   ]
  },
  {
   "cell_type": "code",
   "execution_count": 12,
   "metadata": {},
   "outputs": [
    {
     "name": "stdout",
     "output_type": "stream",
     "text": [
      "Total number of characters: 57894\n",
      "Number of unique characters: 397\n"
     ]
    }
   ],
   "source": [
    "# Storing all the unique characters present in my corpus to bult a mapping dic. \n",
    "symb = sorted(list(set(Corpus)))\n",
    "\n",
    "L_corpus = len(Corpus) #length of corpus\n",
    "L_symb = len(symb) #length of total unique characters\n",
    "\n",
    "#Building dictionary to access the vocabulary from indices and vice versa\n",
    "mapping = dict((c, i) for i, c in enumerate(symb))\n",
    "reverse_mapping = dict((i, c) for i, c in enumerate(symb))\n",
    "\n",
    "print(\"Número total de notas:\", L_corpus)\n",
    "print(\"Número de total de notas no repetidas:\", L_symb)"
   ]
  },
  {
   "cell_type": "code",
   "execution_count": 44,
   "metadata": {},
   "outputs": [
    {
     "data": {
      "text/plain": [
       "{0: '0',\n",
       " 1: '0.1',\n",
       " 2: '0.1.3',\n",
       " 3: '0.1.3.5',\n",
       " 4: '0.1.3.7',\n",
       " 5: '0.2',\n",
       " 6: '0.2.4',\n",
       " 7: '0.2.5',\n",
       " 8: '0.2.6',\n",
       " 9: '0.2.6.8',\n",
       " 10: '0.2.7',\n",
       " 11: '0.3',\n",
       " 12: '0.3.5',\n",
       " 13: '0.3.6',\n",
       " 14: '0.3.6.8',\n",
       " 15: '0.3.6.9',\n",
       " 16: '0.3.7',\n",
       " 17: '0.4',\n",
       " 18: '0.4.5',\n",
       " 19: '0.4.6',\n",
       " 20: '0.4.7',\n",
       " 21: '0.4.8',\n",
       " 22: '0.5',\n",
       " 23: '0.5.6',\n",
       " 24: '0.6',\n",
       " 25: '1',\n",
       " 26: '1.2',\n",
       " 27: '1.2.3',\n",
       " 28: '1.2.4.5',\n",
       " 29: '1.2.4.8',\n",
       " 30: '1.3',\n",
       " 31: '1.3.4',\n",
       " 32: '1.3.5',\n",
       " 33: '1.3.5.6',\n",
       " 34: '1.3.5.9',\n",
       " 35: '1.3.6',\n",
       " 36: '1.3.7',\n",
       " 37: '1.3.8',\n",
       " 38: '1.4',\n",
       " 39: '1.4.5',\n",
       " 40: '1.4.6',\n",
       " 41: '1.4.7',\n",
       " 42: '1.4.7.10',\n",
       " 43: '1.4.7.9',\n",
       " 44: '1.4.8',\n",
       " 45: '1.5',\n",
       " 46: '1.5.6',\n",
       " 47: '1.5.7',\n",
       " 48: '1.5.8',\n",
       " 49: '1.5.9',\n",
       " 50: '1.6',\n",
       " 51: '1.7',\n",
       " 52: '10',\n",
       " 53: '10.0',\n",
       " 54: '10.0.1',\n",
       " 55: '10.0.1.3',\n",
       " 56: '10.0.2',\n",
       " 57: '10.0.3',\n",
       " 58: '10.0.3.6',\n",
       " 59: '10.0.4',\n",
       " 60: '10.0.5',\n",
       " 61: '10.1',\n",
       " 62: '10.1.2',\n",
       " 63: '10.1.3',\n",
       " 64: '10.1.3.6',\n",
       " 65: '10.1.4',\n",
       " 66: '10.1.4.6',\n",
       " 67: '10.1.5',\n",
       " 68: '10.11',\n",
       " 69: '10.11.0',\n",
       " 70: '10.11.1',\n",
       " 71: '10.11.1.2',\n",
       " 72: '10.11.2',\n",
       " 73: '10.11.4',\n",
       " 74: '10.2',\n",
       " 75: '10.2.3',\n",
       " 76: '10.2.5',\n",
       " 77: '10.3',\n",
       " 78: '10.3.4',\n",
       " 79: '11',\n",
       " 80: '11.0',\n",
       " 81: '11.0.2',\n",
       " 82: '11.0.2.3',\n",
       " 83: '11.0.2.4',\n",
       " 84: '11.0.2.6',\n",
       " 85: '11.0.3',\n",
       " 86: '11.0.4',\n",
       " 87: '11.0.5',\n",
       " 88: '11.1',\n",
       " 89: '11.1.2.4',\n",
       " 90: '11.1.3.5',\n",
       " 91: '11.1.4',\n",
       " 92: '11.1.4.6',\n",
       " 93: '11.1.5',\n",
       " 94: '11.1.6',\n",
       " 95: '11.2',\n",
       " 96: '11.2.4',\n",
       " 97: '11.2.5',\n",
       " 98: '11.2.5.7',\n",
       " 99: '11.2.6',\n",
       " 100: '11.3',\n",
       " 101: '11.3.4',\n",
       " 102: '11.3.5',\n",
       " 103: '11.3.6',\n",
       " 104: '11.3.6.7',\n",
       " 105: '11.4',\n",
       " 106: '2',\n",
       " 107: '2.3',\n",
       " 108: '2.3.4',\n",
       " 109: '2.3.4.8',\n",
       " 110: '2.3.5',\n",
       " 111: '2.3.7',\n",
       " 112: '2.3.8',\n",
       " 113: '2.4',\n",
       " 114: '2.4.5',\n",
       " 115: '2.4.6.8',\n",
       " 116: '2.4.7',\n",
       " 117: '2.4.8',\n",
       " 118: '2.4.9',\n",
       " 119: '2.5',\n",
       " 120: '2.5.7',\n",
       " 121: '2.5.8',\n",
       " 122: '2.5.8.10',\n",
       " 123: '2.5.8.11',\n",
       " 124: '2.5.9',\n",
       " 125: '2.6',\n",
       " 126: '2.6.10',\n",
       " 127: '2.6.7',\n",
       " 128: '2.6.8',\n",
       " 129: '2.6.9',\n",
       " 130: '2.7',\n",
       " 131: '2.7.8',\n",
       " 132: '2.8',\n",
       " 133: '3',\n",
       " 134: '3.4',\n",
       " 135: '3.4.5',\n",
       " 136: '3.4.6',\n",
       " 137: '3.4.6.10',\n",
       " 138: '3.4.6.7',\n",
       " 139: '3.4.8',\n",
       " 140: '3.4.9',\n",
       " 141: '3.5',\n",
       " 142: '3.5.10',\n",
       " 143: '3.5.6',\n",
       " 144: '3.5.6.8',\n",
       " 145: '3.5.7.11',\n",
       " 146: '3.5.8',\n",
       " 147: '3.5.8.11',\n",
       " 148: '3.5.9',\n",
       " 149: '3.5.9.11',\n",
       " 150: '3.6',\n",
       " 151: '3.6.10',\n",
       " 152: '3.6.7',\n",
       " 153: '3.6.8',\n",
       " 154: '3.6.9',\n",
       " 155: '3.6.9.11',\n",
       " 156: '3.7',\n",
       " 157: '3.7.10',\n",
       " 158: '3.7.11',\n",
       " 159: '3.7.8',\n",
       " 160: '3.7.9',\n",
       " 161: '3.8',\n",
       " 162: '3.8.9',\n",
       " 163: '3.9',\n",
       " 164: '4',\n",
       " 165: '4.10',\n",
       " 166: '4.5',\n",
       " 167: '4.5.10',\n",
       " 168: '4.5.7',\n",
       " 169: '4.5.9',\n",
       " 170: '4.6',\n",
       " 171: '4.6.10',\n",
       " 172: '4.6.11',\n",
       " 173: '4.6.8.9',\n",
       " 174: '4.6.9',\n",
       " 175: '4.7',\n",
       " 176: '4.7.10',\n",
       " 177: '4.7.10.0',\n",
       " 178: '4.7.11',\n",
       " 179: '4.7.9',\n",
       " 180: '4.8',\n",
       " 181: '4.8.11',\n",
       " 182: '4.9',\n",
       " 183: '4.9.10',\n",
       " 184: '5',\n",
       " 185: '5.10',\n",
       " 186: '5.10.11',\n",
       " 187: '5.11',\n",
       " 188: '5.6',\n",
       " 189: '5.6.10',\n",
       " 190: '5.6.8',\n",
       " 191: '5.6.8.0',\n",
       " 192: '5.6.8.10',\n",
       " 193: '5.6.8.9',\n",
       " 194: '5.7',\n",
       " 195: '5.7.0',\n",
       " 196: '5.7.10',\n",
       " 197: '5.7.10.1',\n",
       " 198: '5.7.11',\n",
       " 199: '5.7.8',\n",
       " 200: '5.7.9',\n",
       " 201: '5.8',\n",
       " 202: '5.8.0',\n",
       " 203: '5.8.10',\n",
       " 204: '5.8.10.1',\n",
       " 205: '5.8.11',\n",
       " 206: '5.8.11.1',\n",
       " 207: '5.9',\n",
       " 208: '5.9.0',\n",
       " 209: '5.9.11',\n",
       " 210: '6',\n",
       " 211: '6.10',\n",
       " 212: '6.10.0',\n",
       " 213: '6.10.1',\n",
       " 214: '6.11',\n",
       " 215: '6.7',\n",
       " 216: '6.7.0',\n",
       " 217: '6.7.10.1',\n",
       " 218: '6.7.9',\n",
       " 219: '6.7.9.1',\n",
       " 220: '6.8',\n",
       " 221: '6.8.0',\n",
       " 222: '6.8.1',\n",
       " 223: '6.8.10',\n",
       " 224: '6.8.10.0',\n",
       " 225: '6.8.10.1',\n",
       " 226: '6.8.10.11',\n",
       " 227: '6.8.10.2',\n",
       " 228: '6.8.11',\n",
       " 229: '6.8.11.2',\n",
       " 230: '6.9',\n",
       " 231: '6.9.0',\n",
       " 232: '6.9.0.2',\n",
       " 233: '6.9.1',\n",
       " 234: '6.9.11',\n",
       " 235: '6.9.11.1',\n",
       " 236: '7',\n",
       " 237: '7.0',\n",
       " 238: '7.0.1',\n",
       " 239: '7.10',\n",
       " 240: '7.10.0',\n",
       " 241: '7.10.0.1',\n",
       " 242: '7.10.1',\n",
       " 243: '7.10.1.3',\n",
       " 244: '7.10.2',\n",
       " 245: '7.11',\n",
       " 246: '7.11.0',\n",
       " 247: '7.11.1',\n",
       " 248: '7.11.2',\n",
       " 249: '7.8',\n",
       " 250: '7.8.0',\n",
       " 251: '7.8.1',\n",
       " 252: '7.8.10.11',\n",
       " 253: '7.8.10.2',\n",
       " 254: '7.8.11',\n",
       " 255: '7.9',\n",
       " 256: '7.9.0',\n",
       " 257: '7.9.0.3',\n",
       " 258: '7.9.1',\n",
       " 259: '7.9.10',\n",
       " 260: '7.9.11',\n",
       " 261: '7.9.2',\n",
       " 262: '8',\n",
       " 263: '8.0',\n",
       " 264: '8.0.1',\n",
       " 265: '8.0.2',\n",
       " 266: '8.0.3',\n",
       " 267: '8.1',\n",
       " 268: '8.1.2',\n",
       " 269: '8.10',\n",
       " 270: '8.10.0.1',\n",
       " 271: '8.10.1',\n",
       " 272: '8.10.1.3',\n",
       " 273: '8.10.11',\n",
       " 274: '8.10.2',\n",
       " 275: '8.10.2.3',\n",
       " 276: '8.10.3',\n",
       " 277: '8.11',\n",
       " 278: '8.11.0',\n",
       " 279: '8.11.1',\n",
       " 280: '8.11.1.3',\n",
       " 281: '8.11.1.4',\n",
       " 282: '8.11.2',\n",
       " 283: '8.11.2.3',\n",
       " 284: '8.11.2.4',\n",
       " 285: '8.11.3',\n",
       " 286: '8.9',\n",
       " 287: '8.9.0.3',\n",
       " 288: '8.9.1',\n",
       " 289: '8.9.10.1',\n",
       " 290: '8.9.11',\n",
       " 291: '8.9.11.0',\n",
       " 292: '8.9.11.3',\n",
       " 293: '8.9.2',\n",
       " 294: '9',\n",
       " 295: '9.0',\n",
       " 296: '9.0.1',\n",
       " 297: '9.0.2',\n",
       " 298: '9.0.3',\n",
       " 299: '9.0.3.5',\n",
       " 300: '9.0.4',\n",
       " 301: '9.1',\n",
       " 302: '9.1.3',\n",
       " 303: '9.1.4',\n",
       " 304: '9.10',\n",
       " 305: '9.10.0',\n",
       " 306: '9.10.0.1',\n",
       " 307: '9.10.2',\n",
       " 308: '9.11',\n",
       " 309: '9.11.0',\n",
       " 310: '9.11.0.2',\n",
       " 311: '9.11.1',\n",
       " 312: '9.11.1.4',\n",
       " 313: '9.11.2',\n",
       " 314: '9.11.2.4',\n",
       " 315: '9.11.3',\n",
       " 316: '9.11.4',\n",
       " 317: '9.2',\n",
       " 318: '9.2.3',\n",
       " 319: 'A1',\n",
       " 320: 'A2',\n",
       " 321: 'A3',\n",
       " 322: 'A4',\n",
       " 323: 'A5',\n",
       " 324: 'A6',\n",
       " 325: 'B-1',\n",
       " 326: 'B-2',\n",
       " 327: 'B-3',\n",
       " 328: 'B-4',\n",
       " 329: 'B-5',\n",
       " 330: 'B-6',\n",
       " 331: 'B1',\n",
       " 332: 'B2',\n",
       " 333: 'B3',\n",
       " 334: 'B4',\n",
       " 335: 'B5',\n",
       " 336: 'B6',\n",
       " 337: 'C#1',\n",
       " 338: 'C#2',\n",
       " 339: 'C#3',\n",
       " 340: 'C#4',\n",
       " 341: 'C#5',\n",
       " 342: 'C#6',\n",
       " 343: 'C#7',\n",
       " 344: 'C1',\n",
       " 345: 'C2',\n",
       " 346: 'C3',\n",
       " 347: 'C4',\n",
       " 348: 'C5',\n",
       " 349: 'C6',\n",
       " 350: 'C7',\n",
       " 351: 'D1',\n",
       " 352: 'D2',\n",
       " 353: 'D3',\n",
       " 354: 'D4',\n",
       " 355: 'D5',\n",
       " 356: 'D6',\n",
       " 357: 'D7',\n",
       " 358: 'E-1',\n",
       " 359: 'E-2',\n",
       " 360: 'E-3',\n",
       " 361: 'E-4',\n",
       " 362: 'E-5',\n",
       " 363: 'E-6',\n",
       " 364: 'E-7',\n",
       " 365: 'E1',\n",
       " 366: 'E2',\n",
       " 367: 'E3',\n",
       " 368: 'E4',\n",
       " 369: 'E5',\n",
       " 370: 'E6',\n",
       " 371: 'E7',\n",
       " 372: 'F#1',\n",
       " 373: 'F#2',\n",
       " 374: 'F#3',\n",
       " 375: 'F#4',\n",
       " 376: 'F#5',\n",
       " 377: 'F#6',\n",
       " 378: 'F1',\n",
       " 379: 'F2',\n",
       " 380: 'F3',\n",
       " 381: 'F4',\n",
       " 382: 'F5',\n",
       " 383: 'F6',\n",
       " 384: 'F7',\n",
       " 385: 'G#1',\n",
       " 386: 'G#2',\n",
       " 387: 'G#3',\n",
       " 388: 'G#4',\n",
       " 389: 'G#5',\n",
       " 390: 'G#6',\n",
       " 391: 'G1',\n",
       " 392: 'G2',\n",
       " 393: 'G3',\n",
       " 394: 'G4',\n",
       " 395: 'G5',\n",
       " 396: 'G6'}"
      ]
     },
     "execution_count": 44,
     "metadata": {},
     "output_type": "execute_result"
    }
   ],
   "source": [
    "reverse_mapping"
   ]
  },
  {
   "cell_type": "markdown",
   "metadata": {},
   "source": [
    "Observemos un ejemplo"
   ]
  },
  {
   "cell_type": "code",
   "execution_count": 14,
   "metadata": {},
   "outputs": [
    {
     "data": {
      "text/plain": [
       "392"
      ]
     },
     "execution_count": 14,
     "metadata": {},
     "output_type": "execute_result"
    }
   ],
   "source": [
    "mapping['G2']"
   ]
  },
  {
   "cell_type": "code",
   "execution_count": 15,
   "metadata": {},
   "outputs": [
    {
     "data": {
      "text/plain": [
       "'G2'"
      ]
     },
     "execution_count": 15,
     "metadata": {},
     "output_type": "execute_result"
    }
   ],
   "source": [
    "reverse_mapping[392]"
   ]
  },
  {
   "cell_type": "markdown",
   "metadata": {},
   "source": [
    "2 - Crea los conjuntos de características y objetivos (Features and Targets). Recorre el Corpus en saltos de largo 40 y deja 40 notas como input y una como salida esperada de esa secuencia."
   ]
  },
  {
   "cell_type": "code",
   "execution_count": 16,
   "metadata": {},
   "outputs": [
    {
     "name": "stdout",
     "output_type": "stream",
     "text": [
      "Total number of sequences in the Corpus: 57854\n"
     ]
    }
   ],
   "source": [
    "#Splitting the Corpus in equal length of strings and output target\n",
    "length = 40\n",
    "features = []\n",
    "targets = []\n",
    "for i in range(0, L_corpus - length, 1):\n",
    "    feature = Corpus[i:i + length]\n",
    "    target = Corpus[i + length]\n",
    "    features.append([mapping[j] for j in feature])\n",
    "    targets.append(mapping[target])\n",
    "    \n",
    "    \n",
    "L_datapoints = len(targets)\n",
    "print(\"Total number of sequences in the Corpus:\", L_datapoints)"
   ]
  },
  {
   "cell_type": "markdown",
   "metadata": {},
   "source": [
    "Observemos"
   ]
  },
  {
   "cell_type": "code",
   "execution_count": 22,
   "metadata": {},
   "outputs": [
    {
     "data": {
      "text/plain": [
       "40"
      ]
     },
     "execution_count": 22,
     "metadata": {},
     "output_type": "execute_result"
    }
   ],
   "source": [
    "len(features[0])"
   ]
  },
  {
   "cell_type": "code",
   "execution_count": 19,
   "metadata": {},
   "outputs": [
    {
     "data": {
      "text/plain": [
       "[346, 345, 360, 359, 387, 386, 327, 326, 347, 346]"
      ]
     },
     "execution_count": 19,
     "metadata": {},
     "output_type": "execute_result"
    }
   ],
   "source": [
    "features[0][:10]"
   ]
  },
  {
   "cell_type": "code",
   "execution_count": 21,
   "metadata": {},
   "outputs": [
    {
     "data": {
      "text/plain": [
       "376"
      ]
     },
     "execution_count": 21,
     "metadata": {},
     "output_type": "execute_result"
    }
   ],
   "source": [
    "targets[0]"
   ]
  },
  {
   "cell_type": "markdown",
   "metadata": {},
   "source": [
    "3 - Modifica la forma o shape del arreglo para poder posteriormente entrenar un modelo utilizando ```keras```. Además convierte los targets vectores de 0-1 donde la posición de la componente 1 representa el número entero del mapa que codificó las notas previamente. Esto se denomina un \"one hot vector. "
   ]
  },
  {
   "cell_type": "code",
   "execution_count": 23,
   "metadata": {},
   "outputs": [],
   "source": [
    "# reshape X and normalize\n",
    "X = (np.reshape(features, (L_datapoints, length, 1)))/ float(L_symb)\n",
    "# one hot encode the output variable\n",
    "y = tensorflow.keras.utils.to_categorical(targets) "
   ]
  },
  {
   "cell_type": "markdown",
   "metadata": {},
   "source": [
    "Observemos"
   ]
  },
  {
   "cell_type": "code",
   "execution_count": 24,
   "metadata": {},
   "outputs": [
    {
     "data": {
      "text/plain": [
       "(57854, 40, 1)"
      ]
     },
     "execution_count": 24,
     "metadata": {},
     "output_type": "execute_result"
    }
   ],
   "source": [
    "X.shape"
   ]
  },
  {
   "cell_type": "code",
   "execution_count": 25,
   "metadata": {},
   "outputs": [
    {
     "data": {
      "text/plain": [
       "(57854, 397)"
      ]
     },
     "execution_count": 25,
     "metadata": {},
     "output_type": "execute_result"
    }
   ],
   "source": [
    "y.shape"
   ]
  },
  {
   "cell_type": "code",
   "execution_count": 26,
   "metadata": {},
   "outputs": [
    {
     "data": {
      "text/plain": [
       "array([0., 0., 0., 0., 0., 0., 0., 0., 0., 0., 0., 0., 0., 0., 0., 0., 0.,\n",
       "       0., 0., 0., 0., 0., 0., 0., 0., 0., 0., 0., 0., 0., 0., 0., 0., 0.,\n",
       "       0., 0., 0., 0., 0., 0., 0., 0., 0., 0., 0., 0., 0., 0., 0., 0., 0.,\n",
       "       0., 0., 0., 0., 0., 0., 0., 0., 0., 0., 0., 0., 0., 0., 0., 0., 0.,\n",
       "       0., 0., 0., 0., 0., 0., 0., 0., 0., 0., 0., 0., 0., 0., 0., 0., 0.,\n",
       "       0., 0., 0., 0., 0., 0., 0., 0., 0., 0., 0., 0., 0., 0., 0., 0., 0.,\n",
       "       0., 0., 0., 0., 0., 0., 0., 0., 0., 0., 0., 0., 0., 0., 0., 0., 0.,\n",
       "       0., 0., 0., 0., 0., 0., 0., 0., 0., 0., 0., 0., 0., 0., 0., 0., 0.,\n",
       "       0., 0., 0., 0., 0., 0., 0., 0., 0., 0., 0., 0., 0., 0., 0., 0., 0.,\n",
       "       0., 0., 0., 0., 0., 0., 0., 0., 0., 0., 0., 0., 0., 0., 0., 0., 0.,\n",
       "       0., 0., 0., 0., 0., 0., 0., 0., 0., 0., 0., 0., 0., 0., 0., 0., 0.,\n",
       "       0., 0., 0., 0., 0., 0., 0., 0., 0., 0., 0., 0., 0., 0., 0., 0., 0.,\n",
       "       0., 0., 0., 0., 0., 0., 0., 0., 0., 0., 0., 0., 0., 0., 0., 0., 0.,\n",
       "       0., 0., 0., 0., 0., 0., 0., 0., 0., 0., 0., 0., 0., 0., 0., 0., 0.,\n",
       "       0., 0., 0., 0., 0., 0., 0., 0., 0., 0., 0., 0., 0., 0., 0., 0., 0.,\n",
       "       0., 0., 0., 0., 0., 0., 0., 0., 0., 0., 0., 0., 0., 0., 0., 0., 0.,\n",
       "       0., 0., 0., 0., 0., 0., 0., 0., 0., 0., 0., 0., 0., 0., 0., 0., 0.,\n",
       "       0., 0., 0., 0., 0., 0., 0., 0., 0., 0., 0., 0., 0., 0., 0., 0., 0.,\n",
       "       0., 0., 0., 0., 0., 0., 0., 0., 0., 0., 0., 0., 0., 0., 0., 0., 0.,\n",
       "       0., 0., 0., 0., 0., 0., 0., 0., 0., 0., 0., 0., 0., 0., 0., 0., 0.,\n",
       "       0., 0., 0., 0., 0., 0., 0., 0., 0., 0., 0., 0., 0., 0., 0., 0., 0.,\n",
       "       0., 0., 0., 0., 0., 0., 0., 0., 0., 0., 0., 0., 0., 0., 0., 0., 0.,\n",
       "       0., 0., 1., 0., 0., 0., 0., 0., 0., 0., 0., 0., 0., 0., 0., 0., 0.,\n",
       "       0., 0., 0., 0., 0., 0.], dtype=float32)"
      ]
     },
     "execution_count": 26,
     "metadata": {},
     "output_type": "execute_result"
    }
   ],
   "source": [
    "y[0]"
   ]
  },
  {
   "cell_type": "markdown",
   "metadata": {},
   "source": [
    "3 - Divide en conjunto de entrenamiento y test: un $20\\%$ de los datos serán para test."
   ]
  },
  {
   "cell_type": "code",
   "execution_count": 27,
   "metadata": {},
   "outputs": [],
   "source": [
    "#Taking out a subset of data to be used as seed\n",
    "X_train, X_seed, y_train, y_seed = train_test_split(X, y, test_size=0.2, random_state=42)"
   ]
  },
  {
   "cell_type": "code",
   "execution_count": 28,
   "metadata": {},
   "outputs": [
    {
     "data": {
      "text/plain": [
       "40"
      ]
     },
     "execution_count": 28,
     "metadata": {},
     "output_type": "execute_result"
    }
   ],
   "source": [
    "X_train.shape[1]"
   ]
  },
  {
   "cell_type": "code",
   "execution_count": 29,
   "metadata": {},
   "outputs": [
    {
     "data": {
      "text/plain": [
       "1"
      ]
     },
     "execution_count": 29,
     "metadata": {},
     "output_type": "execute_result"
    }
   ],
   "source": [
    "X_train.shape[2]"
   ]
  },
  {
   "cell_type": "markdown",
   "metadata": {},
   "source": [
    "# Construcción del Modelo"
   ]
  },
  {
   "cell_type": "markdown",
   "metadata": {},
   "source": [
    "- El modelo recibe como entrada un vector columna de la forma ```input_shape=(X.shape[1], X.shape[2]) = (40,1)```.\n",
    "Se asigna el valor ```return_sequences = True``` para que la salida del modelo sea una secuencia completa y no el último valor o componente. \n",
    "Se suele utilizar ```return_sequences = False``` en problemas de clasificación. \n",
    "\n",
    "\n",
    "- Existe un mecanismo de regularización o control de los pesos del modelo para evitar el overfitting o sobre entrenamiento. ```Dropout(0.1)``` Significa que aproximadamente el $10\\%$ de las neuronas de la capa anterior se desactivarán (se establecerán en cero) de manera aleatoria en cada paso de entrenamiento.\n",
    "\n",
    "- Observe que utiliza una red neuronal totalmente conectada o modelo lineal visto en clases anteriores ```Dense(256)``` y dos modelos LSTM.\n",
    "\n",
    "- Finalmente, utiliza una función de activación ```softmax``` para extraer el valor más probable como salida a la secuencia de entrada. \n",
    "\n",
    "- En mi computador aparece el siguiente Warning: \n",
    "\n",
    "```\n",
    "WARNING:absl:At this time, the v2.11+ optimizer `tf.keras.optimizers.Adamax` runs slowly on M1/M2 Macs, please use the legacy Keras optimizer\n",
    "```\n",
    "\n",
    "Por eso mi ```import``` es diferente al comienzo del notebook y usa ```legacy```"
   ]
  },
  {
   "cell_type": "code",
   "execution_count": 35,
   "metadata": {},
   "outputs": [],
   "source": [
    "#Initialising the Model\n",
    "model = Sequential()\n",
    "#Adding layers\n",
    "model.add(LSTM(512, input_shape=(X.shape[1], X.shape[2]), return_sequences=True))\n",
    "model.add(Dropout(0.1))\n",
    "model.add(LSTM(256))\n",
    "model.add(Dense(256))\n",
    "model.add(Dropout(0.1))\n",
    "model.add(Dense(y.shape[1], activation='softmax'))\n",
    "#Compiling the model for training  \n",
    "opt = Adamax(learning_rate=0.01)\n",
    "model.compile(loss='categorical_crossentropy', optimizer=opt)"
   ]
  },
  {
   "cell_type": "code",
   "execution_count": 36,
   "metadata": {},
   "outputs": [
    {
     "name": "stdout",
     "output_type": "stream",
     "text": [
      "Model: \"sequential_4\"\n",
      "_________________________________________________________________\n",
      " Layer (type)                Output Shape              Param #   \n",
      "=================================================================\n",
      " lstm_8 (LSTM)               (None, 40, 512)           1052672   \n",
      "                                                                 \n",
      " dropout_8 (Dropout)         (None, 40, 512)           0         \n",
      "                                                                 \n",
      " lstm_9 (LSTM)               (None, 256)               787456    \n",
      "                                                                 \n",
      " dense_8 (Dense)             (None, 256)               65792     \n",
      "                                                                 \n",
      " dropout_9 (Dropout)         (None, 256)               0         \n",
      "                                                                 \n",
      " dense_9 (Dense)             (None, 397)               102029    \n",
      "                                                                 \n",
      "=================================================================\n",
      "Total params: 2007949 (7.66 MB)\n",
      "Trainable params: 2007949 (7.66 MB)\n",
      "Non-trainable params: 0 (0.00 Byte)\n",
      "_________________________________________________________________\n"
     ]
    }
   ],
   "source": [
    "#Model's Summary               \n",
    "model.summary()"
   ]
  },
  {
   "cell_type": "markdown",
   "metadata": {},
   "source": [
    "Entrenando el modelo (En mi computador tardó más de 35 minutos), el mismo entrenamiento en Colab usando una GPU tardó apenas unos 3 minutos en conseguir la misma cantidad de épocas."
   ]
  },
  {
   "cell_type": "code",
   "execution_count": 37,
   "metadata": {},
   "outputs": [
    {
     "name": "stdout",
     "output_type": "stream",
     "text": [
      "Epoch 1/200\n",
      "181/181 [==============================] - 83s 450ms/step - loss: 4.9917\n",
      "Epoch 2/200\n",
      "181/181 [==============================] - 84s 461ms/step - loss: 4.8870\n",
      "Epoch 3/200\n",
      "181/181 [==============================] - 83s 459ms/step - loss: 4.8815\n",
      "Epoch 4/200\n",
      "181/181 [==============================] - 83s 460ms/step - loss: 4.8768\n",
      "Epoch 5/200\n",
      "181/181 [==============================] - 85s 470ms/step - loss: 4.8718\n",
      "Epoch 6/200\n",
      "181/181 [==============================] - 88s 487ms/step - loss: 4.8800\n",
      "Epoch 7/200\n",
      "181/181 [==============================] - 90s 495ms/step - loss: 4.9242\n",
      "Epoch 8/200\n",
      "181/181 [==============================] - 89s 489ms/step - loss: 4.9198\n",
      "Epoch 9/200\n",
      "181/181 [==============================] - 88s 486ms/step - loss: 4.9182\n",
      "Epoch 10/200\n",
      "181/181 [==============================] - 86s 472ms/step - loss: 4.9063\n",
      "Epoch 11/200\n",
      "181/181 [==============================] - 87s 482ms/step - loss: 4.7680\n",
      "Epoch 12/200\n",
      "181/181 [==============================] - 86s 477ms/step - loss: 4.7425\n",
      "Epoch 13/200\n",
      "181/181 [==============================] - 87s 480ms/step - loss: 4.7117\n",
      "Epoch 14/200\n",
      "181/181 [==============================] - 85s 471ms/step - loss: 4.7056\n",
      "Epoch 15/200\n",
      "181/181 [==============================] - 86s 478ms/step - loss: 4.6848\n",
      "Epoch 16/200\n",
      "181/181 [==============================] - 86s 473ms/step - loss: 4.6683\n",
      "Epoch 17/200\n",
      "181/181 [==============================] - 87s 480ms/step - loss: 4.6615\n",
      "Epoch 18/200\n",
      "181/181 [==============================] - 87s 482ms/step - loss: 4.6540\n",
      "Epoch 19/200\n",
      "181/181 [==============================] - 87s 482ms/step - loss: 4.6499\n",
      "Epoch 20/200\n",
      "181/181 [==============================] - 86s 477ms/step - loss: 4.6462\n",
      "Epoch 21/200\n",
      "181/181 [==============================] - 88s 488ms/step - loss: 4.6428\n",
      "Epoch 22/200\n",
      "181/181 [==============================] - 86s 477ms/step - loss: 4.6387\n",
      "Epoch 23/200\n",
      "181/181 [==============================] - 85s 472ms/step - loss: 4.6330\n",
      "Epoch 24/200\n",
      "181/181 [==============================] - 89s 491ms/step - loss: 4.6237\n",
      "Epoch 25/200\n",
      "181/181 [==============================] - 90s 496ms/step - loss: 4.6187\n",
      "Epoch 26/200\n",
      "181/181 [==============================] - 88s 485ms/step - loss: 4.6108\n",
      "Epoch 27/200\n",
      "181/181 [==============================] - 86s 477ms/step - loss: 4.5949\n",
      "Epoch 28/200\n",
      "181/181 [==============================] - 89s 490ms/step - loss: 4.5760\n",
      "Epoch 29/200\n",
      "181/181 [==============================] - 88s 484ms/step - loss: 4.5400\n",
      "Epoch 30/200\n",
      "181/181 [==============================] - 85s 468ms/step - loss: 4.5064\n",
      "Epoch 31/200\n",
      "181/181 [==============================] - 87s 483ms/step - loss: 4.4576\n",
      "Epoch 32/200\n",
      "181/181 [==============================] - 87s 481ms/step - loss: 4.3886\n",
      "Epoch 33/200\n",
      "181/181 [==============================] - 88s 484ms/step - loss: 4.3094\n",
      "Epoch 34/200\n",
      "181/181 [==============================] - 91s 500ms/step - loss: 4.2217\n",
      "Epoch 35/200\n",
      "181/181 [==============================] - 90s 495ms/step - loss: 4.1035\n",
      "Epoch 36/200\n",
      "181/181 [==============================] - 88s 484ms/step - loss: 3.9652\n",
      "Epoch 37/200\n",
      "181/181 [==============================] - 89s 490ms/step - loss: 3.8070\n",
      "Epoch 38/200\n",
      "181/181 [==============================] - 87s 481ms/step - loss: 3.6364\n",
      "Epoch 39/200\n",
      "181/181 [==============================] - 87s 482ms/step - loss: 3.4091\n",
      "Epoch 40/200\n",
      "181/181 [==============================] - 90s 496ms/step - loss: 3.2246\n",
      "Epoch 41/200\n",
      "181/181 [==============================] - 89s 489ms/step - loss: 3.0380\n",
      "Epoch 42/200\n",
      "181/181 [==============================] - 85s 468ms/step - loss: 2.8654\n",
      "Epoch 43/200\n",
      "181/181 [==============================] - 84s 464ms/step - loss: 2.7047\n",
      "Epoch 44/200\n",
      "181/181 [==============================] - 85s 469ms/step - loss: 2.5546\n",
      "Epoch 45/200\n",
      "181/181 [==============================] - 86s 473ms/step - loss: 2.4102\n",
      "Epoch 46/200\n",
      "181/181 [==============================] - 86s 474ms/step - loss: 2.2695\n",
      "Epoch 47/200\n",
      "181/181 [==============================] - 84s 463ms/step - loss: 2.1449\n",
      "Epoch 48/200\n",
      "181/181 [==============================] - 85s 467ms/step - loss: 2.0153\n",
      "Epoch 49/200\n",
      "181/181 [==============================] - 86s 475ms/step - loss: 1.9246\n",
      "Epoch 50/200\n",
      "181/181 [==============================] - 85s 470ms/step - loss: 1.8043\n",
      "Epoch 51/200\n",
      "181/181 [==============================] - 86s 476ms/step - loss: 1.7068\n",
      "Epoch 52/200\n",
      "181/181 [==============================] - 86s 476ms/step - loss: 1.6251\n",
      "Epoch 53/200\n",
      "181/181 [==============================] - 85s 470ms/step - loss: 1.5321\n",
      "Epoch 54/200\n",
      "181/181 [==============================] - 84s 465ms/step - loss: 1.4447\n",
      "Epoch 55/200\n",
      "181/181 [==============================] - 86s 475ms/step - loss: 1.3878\n",
      "Epoch 56/200\n",
      "181/181 [==============================] - 86s 473ms/step - loss: 1.3013\n",
      "Epoch 57/200\n",
      "181/181 [==============================] - 84s 466ms/step - loss: 1.2491\n",
      "Epoch 58/200\n",
      "181/181 [==============================] - 85s 469ms/step - loss: 1.1884\n",
      "Epoch 59/200\n",
      "181/181 [==============================] - 87s 481ms/step - loss: 1.1345\n",
      "Epoch 60/200\n",
      "181/181 [==============================] - 87s 481ms/step - loss: 1.0753\n",
      "Epoch 61/200\n",
      "181/181 [==============================] - 86s 474ms/step - loss: 1.0134\n",
      "Epoch 62/200\n",
      "181/181 [==============================] - 85s 468ms/step - loss: 0.9677\n",
      "Epoch 63/200\n",
      "181/181 [==============================] - 84s 463ms/step - loss: 0.9367\n",
      "Epoch 64/200\n",
      "181/181 [==============================] - 83s 456ms/step - loss: 0.8939\n",
      "Epoch 65/200\n",
      "181/181 [==============================] - 85s 471ms/step - loss: 0.8513\n",
      "Epoch 66/200\n",
      "181/181 [==============================] - 88s 486ms/step - loss: 0.8125\n",
      "Epoch 67/200\n",
      "181/181 [==============================] - 88s 489ms/step - loss: 0.7924\n",
      "Epoch 68/200\n",
      "181/181 [==============================] - 87s 483ms/step - loss: 0.7601\n",
      "Epoch 69/200\n",
      "181/181 [==============================] - 86s 476ms/step - loss: 0.7036\n",
      "Epoch 70/200\n",
      "181/181 [==============================] - 88s 484ms/step - loss: 0.6976\n",
      "Epoch 71/200\n",
      "181/181 [==============================] - 85s 470ms/step - loss: 0.6643\n",
      "Epoch 72/200\n",
      "181/181 [==============================] - 86s 476ms/step - loss: 0.6339\n",
      "Epoch 73/200\n",
      "181/181 [==============================] - 86s 474ms/step - loss: 0.6044\n",
      "Epoch 74/200\n",
      "181/181 [==============================] - 86s 475ms/step - loss: 0.5819\n",
      "Epoch 75/200\n",
      "181/181 [==============================] - 85s 471ms/step - loss: 0.5769\n",
      "Epoch 76/200\n",
      "181/181 [==============================] - 85s 472ms/step - loss: 0.5431\n",
      "Epoch 77/200\n",
      "181/181 [==============================] - 86s 476ms/step - loss: 0.5127\n",
      "Epoch 78/200\n",
      "181/181 [==============================] - 86s 476ms/step - loss: 0.5147\n",
      "Epoch 79/200\n",
      "181/181 [==============================] - 87s 480ms/step - loss: 0.4755\n",
      "Epoch 80/200\n",
      "181/181 [==============================] - 87s 483ms/step - loss: 0.4799\n",
      "Epoch 81/200\n",
      "181/181 [==============================] - 88s 486ms/step - loss: 0.4511\n",
      "Epoch 82/200\n",
      "181/181 [==============================] - 88s 485ms/step - loss: 0.4521\n",
      "Epoch 83/200\n",
      "181/181 [==============================] - 85s 472ms/step - loss: 0.4305\n",
      "Epoch 84/200\n",
      "181/181 [==============================] - 87s 480ms/step - loss: 0.4073\n",
      "Epoch 85/200\n",
      "181/181 [==============================] - 86s 473ms/step - loss: 0.3980\n",
      "Epoch 86/200\n",
      "181/181 [==============================] - 86s 473ms/step - loss: 0.3822\n",
      "Epoch 87/200\n",
      "181/181 [==============================] - 88s 484ms/step - loss: 0.3864\n",
      "Epoch 88/200\n",
      "181/181 [==============================] - 87s 483ms/step - loss: 0.3749\n",
      "Epoch 89/200\n",
      "181/181 [==============================] - 90s 496ms/step - loss: 0.3525\n",
      "Epoch 90/200\n",
      "181/181 [==============================] - 89s 491ms/step - loss: 0.3408\n",
      "Epoch 91/200\n",
      "181/181 [==============================] - 88s 485ms/step - loss: 0.3427\n",
      "Epoch 92/200\n",
      "181/181 [==============================] - 87s 482ms/step - loss: 0.3409\n",
      "Epoch 93/200\n",
      "181/181 [==============================] - 86s 478ms/step - loss: 0.3287\n",
      "Epoch 94/200\n",
      "181/181 [==============================] - 86s 475ms/step - loss: 0.3074\n",
      "Epoch 95/200\n",
      "181/181 [==============================] - 86s 472ms/step - loss: 0.3226\n",
      "Epoch 96/200\n",
      "181/181 [==============================] - 87s 484ms/step - loss: 0.2972\n",
      "Epoch 97/200\n",
      "181/181 [==============================] - 89s 494ms/step - loss: 0.2900\n",
      "Epoch 98/200\n",
      "181/181 [==============================] - 88s 487ms/step - loss: 0.2854\n",
      "Epoch 99/200\n",
      "181/181 [==============================] - 86s 474ms/step - loss: 0.2785\n",
      "Epoch 100/200\n",
      "181/181 [==============================] - 86s 477ms/step - loss: 0.2807\n",
      "Epoch 101/200\n",
      "181/181 [==============================] - 85s 468ms/step - loss: 0.2803\n",
      "Epoch 102/200\n",
      "181/181 [==============================] - 87s 481ms/step - loss: 0.2680\n",
      "Epoch 103/200\n",
      "181/181 [==============================] - 87s 478ms/step - loss: 0.2727\n",
      "Epoch 104/200\n",
      "181/181 [==============================] - 88s 487ms/step - loss: 0.2575\n",
      "Epoch 105/200\n",
      "181/181 [==============================] - 87s 478ms/step - loss: 0.2474\n",
      "Epoch 106/200\n",
      "181/181 [==============================] - 85s 472ms/step - loss: 0.2527\n",
      "Epoch 107/200\n",
      "181/181 [==============================] - 85s 471ms/step - loss: 0.2474\n",
      "Epoch 108/200\n",
      "181/181 [==============================] - 86s 477ms/step - loss: 0.2467\n",
      "Epoch 109/200\n",
      "181/181 [==============================] - 83s 460ms/step - loss: 0.2398\n",
      "Epoch 110/200\n",
      "181/181 [==============================] - 85s 472ms/step - loss: 0.2270\n",
      "Epoch 111/200\n",
      "181/181 [==============================] - 84s 465ms/step - loss: 0.2428\n",
      "Epoch 112/200\n",
      "181/181 [==============================] - 84s 467ms/step - loss: 0.2230\n",
      "Epoch 113/200\n",
      "181/181 [==============================] - 87s 478ms/step - loss: 0.2353\n",
      "Epoch 114/200\n",
      "181/181 [==============================] - 84s 464ms/step - loss: 0.2169\n",
      "Epoch 115/200\n",
      "181/181 [==============================] - 83s 459ms/step - loss: 0.2100\n",
      "Epoch 116/200\n",
      "181/181 [==============================] - 83s 461ms/step - loss: 0.2133\n",
      "Epoch 117/200\n",
      "181/181 [==============================] - 83s 459ms/step - loss: 0.2170\n",
      "Epoch 118/200\n",
      "181/181 [==============================] - 85s 468ms/step - loss: 0.2117\n",
      "Epoch 119/200\n",
      "181/181 [==============================] - 86s 474ms/step - loss: 0.2116\n",
      "Epoch 120/200\n",
      "181/181 [==============================] - 86s 474ms/step - loss: 0.1948\n",
      "Epoch 121/200\n",
      "181/181 [==============================] - 85s 470ms/step - loss: 0.2004\n",
      "Epoch 122/200\n",
      "181/181 [==============================] - 83s 460ms/step - loss: 0.2085\n",
      "Epoch 123/200\n",
      "181/181 [==============================] - 84s 464ms/step - loss: 0.1833\n",
      "Epoch 124/200\n",
      "181/181 [==============================] - 85s 468ms/step - loss: 0.1900\n",
      "Epoch 125/200\n",
      "181/181 [==============================] - 85s 470ms/step - loss: 0.1955\n",
      "Epoch 126/200\n",
      "181/181 [==============================] - 86s 475ms/step - loss: 0.1854\n",
      "Epoch 127/200\n",
      "181/181 [==============================] - 86s 477ms/step - loss: 0.1782\n",
      "Epoch 128/200\n",
      "181/181 [==============================] - 84s 461ms/step - loss: 0.1807\n",
      "Epoch 129/200\n",
      "181/181 [==============================] - 85s 467ms/step - loss: 0.1880\n",
      "Epoch 130/200\n",
      "181/181 [==============================] - 85s 470ms/step - loss: 0.1678\n",
      "Epoch 131/200\n",
      "181/181 [==============================] - 86s 474ms/step - loss: 0.1751\n",
      "Epoch 132/200\n",
      "181/181 [==============================] - 84s 465ms/step - loss: 0.1763\n",
      "Epoch 133/200\n",
      "181/181 [==============================] - 85s 468ms/step - loss: 0.1769\n",
      "Epoch 134/200\n",
      "181/181 [==============================] - 85s 467ms/step - loss: 0.1728\n",
      "Epoch 135/200\n",
      "181/181 [==============================] - 86s 476ms/step - loss: 0.1861\n",
      "Epoch 136/200\n",
      "181/181 [==============================] - 85s 471ms/step - loss: 0.1719\n",
      "Epoch 137/200\n",
      "181/181 [==============================] - 84s 464ms/step - loss: 0.1651\n",
      "Epoch 138/200\n",
      "181/181 [==============================] - 85s 469ms/step - loss: 0.1688\n",
      "Epoch 139/200\n",
      "181/181 [==============================] - 86s 477ms/step - loss: 0.1722\n",
      "Epoch 140/200\n",
      "181/181 [==============================] - 85s 472ms/step - loss: 0.1577\n",
      "Epoch 141/200\n",
      "181/181 [==============================] - 84s 462ms/step - loss: 0.1772\n",
      "Epoch 142/200\n",
      "181/181 [==============================] - 85s 468ms/step - loss: 0.1689\n",
      "Epoch 143/200\n",
      "181/181 [==============================] - 82s 456ms/step - loss: 0.1515\n",
      "Epoch 144/200\n",
      "181/181 [==============================] - 83s 456ms/step - loss: 0.1565\n",
      "Epoch 145/200\n",
      "181/181 [==============================] - 84s 462ms/step - loss: 0.1490\n",
      "Epoch 146/200\n",
      "181/181 [==============================] - 85s 470ms/step - loss: 0.1503\n",
      "Epoch 147/200\n",
      "181/181 [==============================] - 84s 466ms/step - loss: 0.1506\n",
      "Epoch 148/200\n",
      "181/181 [==============================] - 84s 467ms/step - loss: 0.1544\n",
      "Epoch 149/200\n",
      "181/181 [==============================] - 85s 469ms/step - loss: 0.1403\n",
      "Epoch 150/200\n",
      "181/181 [==============================] - 83s 460ms/step - loss: 0.1408\n",
      "Epoch 151/200\n",
      "181/181 [==============================] - 85s 471ms/step - loss: 0.1508\n",
      "Epoch 152/200\n",
      "181/181 [==============================] - 85s 471ms/step - loss: 0.1501\n",
      "Epoch 153/200\n",
      "181/181 [==============================] - 85s 470ms/step - loss: 0.1377\n",
      "Epoch 154/200\n",
      "181/181 [==============================] - 86s 472ms/step - loss: 0.1421\n",
      "Epoch 155/200\n",
      "181/181 [==============================] - 87s 483ms/step - loss: 0.1426\n",
      "Epoch 156/200\n",
      "181/181 [==============================] - 85s 468ms/step - loss: 0.1340\n",
      "Epoch 157/200\n",
      "181/181 [==============================] - 85s 468ms/step - loss: 0.1461\n",
      "Epoch 158/200\n",
      "181/181 [==============================] - 84s 465ms/step - loss: 0.1410\n",
      "Epoch 159/200\n",
      "181/181 [==============================] - 84s 462ms/step - loss: 0.1297\n",
      "Epoch 160/200\n",
      "181/181 [==============================] - 83s 460ms/step - loss: 0.1355\n",
      "Epoch 161/200\n",
      "181/181 [==============================] - 85s 469ms/step - loss: 0.1291\n",
      "Epoch 162/200\n",
      "181/181 [==============================] - 85s 469ms/step - loss: 0.1332\n",
      "Epoch 163/200\n",
      "181/181 [==============================] - 85s 468ms/step - loss: 0.1389\n",
      "Epoch 164/200\n",
      "181/181 [==============================] - 83s 460ms/step - loss: 0.1323\n",
      "Epoch 165/200\n",
      "181/181 [==============================] - 85s 467ms/step - loss: 0.1352\n",
      "Epoch 166/200\n",
      "181/181 [==============================] - 86s 476ms/step - loss: 0.1303\n",
      "Epoch 167/200\n",
      "181/181 [==============================] - 86s 478ms/step - loss: 0.1291\n",
      "Epoch 168/200\n",
      "181/181 [==============================] - 85s 469ms/step - loss: 0.1322\n",
      "Epoch 169/200\n",
      "181/181 [==============================] - 86s 475ms/step - loss: 0.1239\n",
      "Epoch 170/200\n",
      "181/181 [==============================] - 87s 478ms/step - loss: 0.1359\n",
      "Epoch 171/200\n",
      "181/181 [==============================] - 84s 464ms/step - loss: 0.1233\n",
      "Epoch 172/200\n",
      "181/181 [==============================] - 86s 477ms/step - loss: 0.1243\n",
      "Epoch 173/200\n",
      "181/181 [==============================] - 87s 483ms/step - loss: 0.1226\n",
      "Epoch 174/200\n",
      "181/181 [==============================] - 84s 464ms/step - loss: 0.1232\n",
      "Epoch 175/200\n",
      "181/181 [==============================] - 85s 467ms/step - loss: 0.1206\n",
      "Epoch 176/200\n",
      "181/181 [==============================] - 85s 467ms/step - loss: 0.1172\n",
      "Epoch 177/200\n",
      "181/181 [==============================] - 85s 467ms/step - loss: 0.1197\n",
      "Epoch 178/200\n",
      "181/181 [==============================] - 86s 475ms/step - loss: 0.1219\n",
      "Epoch 179/200\n",
      "181/181 [==============================] - 85s 472ms/step - loss: 0.1182\n",
      "Epoch 180/200\n",
      "181/181 [==============================] - 86s 474ms/step - loss: 0.1172\n",
      "Epoch 181/200\n",
      "181/181 [==============================] - 86s 475ms/step - loss: 0.1196\n",
      "Epoch 182/200\n",
      "181/181 [==============================] - 85s 467ms/step - loss: 0.1129\n",
      "Epoch 183/200\n",
      "181/181 [==============================] - 83s 460ms/step - loss: 0.1245\n",
      "Epoch 184/200\n",
      "181/181 [==============================] - 85s 469ms/step - loss: 0.1079\n",
      "Epoch 185/200\n",
      "181/181 [==============================] - 86s 475ms/step - loss: 0.1107\n",
      "Epoch 186/200\n",
      "181/181 [==============================] - 87s 478ms/step - loss: 0.1064\n",
      "Epoch 187/200\n",
      "181/181 [==============================] - 86s 475ms/step - loss: 0.1100\n",
      "Epoch 188/200\n",
      "181/181 [==============================] - 84s 467ms/step - loss: 0.1099\n",
      "Epoch 189/200\n",
      "181/181 [==============================] - 81s 449ms/step - loss: 0.1078\n",
      "Epoch 190/200\n",
      "181/181 [==============================] - 84s 466ms/step - loss: 0.1224\n",
      "Epoch 191/200\n",
      "181/181 [==============================] - 82s 455ms/step - loss: 0.1072\n",
      "Epoch 192/200\n",
      "181/181 [==============================] - 82s 453ms/step - loss: 0.1179\n",
      "Epoch 193/200\n",
      "181/181 [==============================] - 84s 463ms/step - loss: 0.1193\n",
      "Epoch 194/200\n",
      "181/181 [==============================] - 87s 478ms/step - loss: 0.1298\n",
      "Epoch 195/200\n",
      "181/181 [==============================] - 86s 477ms/step - loss: 0.1188\n",
      "Epoch 196/200\n",
      "181/181 [==============================] - 86s 473ms/step - loss: 0.1110\n",
      "Epoch 197/200\n",
      "181/181 [==============================] - 85s 470ms/step - loss: 0.0930\n",
      "Epoch 198/200\n",
      "181/181 [==============================] - 86s 475ms/step - loss: 0.0809\n",
      "Epoch 199/200\n",
      "181/181 [==============================] - 83s 457ms/step - loss: 0.0730\n",
      "Epoch 200/200\n",
      "181/181 [==============================] - 85s 469ms/step - loss: 0.0709\n"
     ]
    }
   ],
   "source": [
    "#Training the Model\n",
    "history = model.fit(X_train, y_train, batch_size=256, epochs=200)"
   ]
  },
  {
   "cell_type": "markdown",
   "metadata": {},
   "source": [
    "Evaluando el Modelo"
   ]
  },
  {
   "cell_type": "code",
   "execution_count": 38,
   "metadata": {},
   "outputs": [
    {
     "data": {
      "text/plain": [
       "[Text(0.5, 0, 'Epochs')]"
      ]
     },
     "execution_count": 38,
     "metadata": {},
     "output_type": "execute_result"
    },
    {
     "data": {
      "image/png": "[encoded data removed]",
      "text/plain": [
       "<Figure size 1500x400 with 1 Axes>"
      ]
     },
     "metadata": {
      "image/png": {
       "height": 411,
       "width": 1220
      }
     },
     "output_type": "display_data"
    }
   ],
   "source": [
    "#Plotting the learnings \n",
    "history_df = pd.DataFrame(history.history)\n",
    "fig = plt.figure(figsize=(15,4), facecolor=\"#97BACB\")\n",
    "fig.suptitle(\"Learning Plot of Model for Loss\")\n",
    "pl=sns.lineplot(data=history_df[\"loss\"],color=\"#444160\")\n",
    "pl.set(ylabel =\"Training Loss\")\n",
    "pl.set(xlabel =\"Epochs\")"
   ]
  },
  {
   "cell_type": "markdown",
   "metadata": {},
   "source": [
    "Generando Sonidos"
   ]
  },
  {
   "cell_type": "code",
   "execution_count": 39,
   "metadata": {},
   "outputs": [],
   "source": [
    "def Malody_Generator(Note_Count):\n",
    "    seed = X_seed[np.random.randint(0,len(X_seed)-1)]\n",
    "    Music = \"\"\n",
    "    Notes_Generated=[]\n",
    "    for i in range(Note_Count):\n",
    "        seed = seed.reshape(1,length,1)\n",
    "        prediction = model.predict(seed, verbose=0)[0]\n",
    "        \n",
    "        prediction = np.log(prediction) / 1.0 #diversity\n",
    "        exp_preds = np.exp(prediction)\n",
    "        prediction = exp_preds / np.sum(exp_preds)\n",
    "        index = np.argmax(prediction)\n",
    "        \n",
    "        index_N = index/ float(L_symb)   \n",
    "        Notes_Generated.append(index)\n",
    "        Music = [reverse_mapping[char] for char in Notes_Generated]\n",
    "        seed = np.insert(seed[0],len(seed[0]),index_N)\n",
    "        seed = seed[1:]\n",
    "    #Now, we have music in form or a list of chords and notes and we want to be a midi file.\n",
    "    Melody = chords_n_notes(Music)\n",
    "    Melody_midi = stream.Stream(Melody)   \n",
    "    return Music,Melody_midi\n",
    "\n",
    "\n",
    "#getting the Notes and Melody created by the model\n",
    "Music_notes, Melody = Malody_Generator(100)\n",
    "#show(Melody)"
   ]
  },
  {
   "cell_type": "code",
   "execution_count": 40,
   "metadata": {},
   "outputs": [],
   "source": [
    "def play_midi(midi_data):\n",
    "    midi_stream = stream.Stream()\n",
    "    midi_stream.append(midi_data)\n",
    "    midi_stream.show('midi')"
   ]
  },
  {
   "cell_type": "code",
   "execution_count": 41,
   "metadata": {},
   "outputs": [
    {
     "data": {
      "text/html": [
       "\n",
       "        <div id=\"midiPlayerDiv458271\"></div>\n",
       "        <link rel=\"stylesheet\" href=\"https://cuthbertLab.github.io/music21j/css/m21.css\">\n",
       "        \n",
       "        <script\n",
       "        src=\"https://cdnjs.cloudflare.com/ajax/libs/require.js/2.3.6/require.min.js\"\n",
       "        ></script>\n",
       "    \n",
       "        <script>\n",
       "        function midiPlayerDiv458271_play() {\n",
       "            const rq = require.config({\n",
       "                paths: {\n",
       "                    'music21': 'https://cuthbertLab.github.io/music21j/releases/music21.debug',\n",
       "                }\n",
       "            });\n",
       "            rq(['music21'], function(music21) {\n",
       "                mp = new music21.miditools.MidiPlayer();\n",
       "                mp.addPlayer(\"#midiPlayerDiv458271\");\n",
       "                mp.base64Load(\"data:audio/midi;base64,TVRoZAAAAAYAAQACJ2BNVHJrAAAAFAD/UQMHoSAA/1gEBAIYCM5g/y8ATVRyawAAA5IA/wMAAOAAQM5gkDVazmCANQAAkDhazmCAOAAAkFRazmCAVAAAkDZazmCANgAAkDVazmCANQAAkFJazmCAUgAAkD1azmCAPQAAkFRazmCAVAAAkDhazmCAOAAAkD9azmCAPwAAkE1azmCATQAAkERazmCARAAAkElazmCASQAAkDtazmCAOwAAkDVazmCANQAAkDhazmCAOAAAkDFazmCAMQAAkEFazmCAQQAAkCVazmCAJQAAkEhazmCASAAAkDhazmCAOAAAkFlazmCAWQAAkCxazmCALAAAkEBazmCAQAAAkEBazmCAQAAAkDhazmCAOAAAkC9azmCALwAAkEhazmCASAAAkElazmCASQAAkEhazmCASAAAkDhazmCAOAAAkD1azmCAPQAAkD1azmCAPQAAkDRazmCANAAAkFBazmCAUAAAkDVazmCANQAAkD9azmCAPwAAkDZazmCANgAAkFJazmCAUgAAkDlazmCAOQAAkExazmCATAAAkDNazmCAMwAAkEtazmCASwAAkD9azmCAPwAAkDtazmCAOwAAkCtazmCAKwAAkExazmCATAAAkENazmCAQwAAkEFazmCAQQAAkChazmCAKAAAkERazmCARAAAkENazmCAQwAAkDxazmCAPAAAkDNazmCAMwAAkD9azmCAPwAAkDxazmCAPAAAkD9azmCAPwAAkERazmCARAAAkEtazmCASwAAkDJazmCAMgAAkEpazmCASgAAkDpazmCAOgAAkD9azmCAPwAAkDVazmCANQAAkD9azmCAPwAAkFJazmCAUgAAkD5azmCAPgAAkDpazmCAOgAAkEhazmCASAAAkDVazmCANQAAkDVazmCANQAAkEtazmCASwAAkD5azmCAPgAAkDpazmCAOgAAkDlazmCAOQAAkDFazmCAMQAAkD9azmCAPwAAkDZazmCANgAAkDNazmCAMwAAkDpazmCAOgAAkC5azmCALgAAkDZazmCANgAAkCdazmCAJwAAkC5azmCALgAAkDpazmCAOgAAkC5azmCALgAAkC5azmCALgAAkDJazmCAMgAAkDlazmCAOQAAkD9azmCAPwAAkD1azmCAPQAAkERazmCARAAAkCVazmCAJQAAkDNazmCAMwAAkCxazmCALAAAkDdazmCANwAAkEZazmCARgAAkDlazmCAOQAAkDFazmCAMQAAkDdazmCANwDOYP8vAA==\");\n",
       "            });\n",
       "        }\n",
       "        if (typeof require === 'undefined') {\n",
       "            setTimeout(midiPlayerDiv458271_play, 2000);\n",
       "        } else {\n",
       "            midiPlayerDiv458271_play();\n",
       "        }\n",
       "        </script>"
      ],
      "text/plain": [
       "<IPython.core.display.HTML object>"
      ]
     },
     "metadata": {},
     "output_type": "display_data"
    }
   ],
   "source": [
    "play_midi(Melody)"
   ]
  },
  {
   "cell_type": "markdown",
   "metadata": {},
   "source": [
    "[Resultados en Colaboratory](https://colab.research.google.com/drive/1mm_lpWz_Q7cuV0n7n9M_oFBuPMhVs1FJ#scrollTo=wrURCgVScEM0)"
   ]
  }
 ],
 "metadata": {
  "kernelspec": {
   "display_name": "Python 3",
   "language": "python",
   "name": "python3"
  },
  "language_info": {
   "codemirror_mode": {
    "name": "ipython",
    "version": 3
   },
   "file_extension": ".py",
   "mimetype": "text/x-python",
   "name": "python",
   "nbconvert_exporter": "python",
   "pygments_lexer": "ipython3",
   "version": "3.11.6"
  }
 },
 "nbformat": 4,
 "nbformat_minor": 2
}
